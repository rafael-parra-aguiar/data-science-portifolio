{
  "cells": [
    {
      "cell_type": "code",
      "execution_count": null,
      "metadata": {
        "id": "cc8b6a3b"
      },
      "outputs": [],
      "source": [
        "# Data frame\n",
        "import numpy as np\n",
        "import pandas as pd\n",
        "\n",
        "# Data viz\n",
        "import matplotlib.pyplot as plt\n",
        "import seaborn as sns\n",
        "\n",
        "# Tratamento\n",
        "from sklearn.pipeline import Pipeline\n",
        "from sklearn.preprocessing import StandardScaler, OneHotEncoder, MinMaxScaler, LabelEncoder\n",
        "from sklearn.compose  import ColumnTransformer\n",
        "from sklearn.model_selection import train_test_split\n",
        "\n",
        "# Modelos\n",
        "from sklearn.neighbors import KNeighborsClassifier\n",
        "from sklearn.svm import LinearSVC\n",
        "from sklearn.tree import DecisionTreeClassifier\n",
        "from sklearn.naive_bayes import GaussianNB\n",
        "from sklearn.linear_model import LogisticRegression\n",
        "\n",
        "# Validação\n",
        "from sklearn.model_selection import StratifiedKFold\n",
        "from sklearn.model_selection import RandomizedSearchCV, GridSearchCV\n",
        "\n",
        "# Métricas\n",
        "from sklearn.metrics import plot_confusion_matrix, plot_roc_curve, accuracy_score, f1_score, log_loss, confusion_matrix\n",
        "from sklearn.tree import plot_tree, DecisionTreeClassifier\n",
        "\n",
        "from yellowbrick.classifier import ClassificationReport\n"
      ],
      "id": "cc8b6a3b"
    },
    {
      "cell_type": "markdown",
      "metadata": {
        "id": "7c116301"
      },
      "source": [
        "# Problema 1: Entendendo porque as pessoas votam\n",
        "\n",
        "Em agosto de 2006 três pesquisadores fizeram um grande experimento no estado de Michigan para testar a hipótese de se a motivação das pessoas para votar é social, extrinsica ou por pressão. O primeiro parágrafo do artigo publicado por eles diz:\n",
        "\n",
        "> Uma das mais impressionantes características de um sistema político democrático é a participação de milhões de eleitores nas eleições. Porque tantas pessoas votam apesar do fato que... 'o voto de uma única pessoa não tem significância dentro da grande quantidade total de todos os outros votos' ? Uma hipótese é devido a aderência as normas sociais. Votar é reconhecidamente um dever cívico e os cidadãos podem ser preocupar com a opinião de terceiros caso deixem de votar. O senso de dever dos eleitores foi por um longo tempo a explcicação mais aceita sobre o ato de votar..\n",
        "\n",
        "\n",
        "## Dados\n",
        "\n",
        "Os pesquisadores coletaram dados de 344.000 eleitores que foram atribuídos em diferentes grupos de forma aleatória, aproximadamente 191.000 foram atribuídos ao grupo controle e o restante foi atribuído em um dos 4 grupos de 'tratamento'. Esses 5 grupos correspondem a 5 variáveis binárias do dataset:\n",
        "\n",
        "* Dever Cívico (variável civic duty): membros desse grupo receberam uma carta que dizia apenas: \"DO YOUR CIVIC DUTY — VOTE!\"\n",
        "* Efeito Hawthorne (variável hawthorne): membros desse grupo receberam uma carta com a mensagem do Dever Cívico mais uma mensagem adicional \"YOU ARE BEING STUDIED\" e foram informados que o comportamento eleitoral deles seria examinado.\n",
        "* \"Self\" (variável self) membros desse grupo receberam a mensagem \"Dever Cívico\" junto com os registros comparecimento de todos os outros da casa e uma mensagem informando que após a eleição ele receberia um novo registro atualizado.\n",
        "* Vizinhos (variável neighbors) membros desse grupo receberam a mesma mensagem do \"Self\" e o registro de comparecimento de todos da casa e dos vizinhos, de forma a aumentar a pressão social.\n",
        "* Controle (variável controle):  membros desse grupo não receberam nada e representam a situação típica de um eleitor.\n",
        "\n",
        "Outras variáveis presentes no dataset incluem sex (0 para masculino e 1 para feminino), yob (ano de nascimento) e a variável dependente (1 se votou, 0 caso o contrário)\n",
        "\n",
        "## Análise\n",
        "\n",
        "1. Faça uma análise exploratória e tente identificar alguns padrões. Algumas sugestões: Número de eleitores, número de eleitores por grupo, eleitores por sexo, etc\n",
        "2. Ajuste uma regressão logística usando apenas as variáveis cividduty, harthorne, self, vizinhos e controle. Quais variáveis foram significativas, teste a matriz de confusão para um limiar de 0.3 e crie uma curva roc.\n",
        "3. Ajuste uma árvore de decisão com as mesmas variáveis usadas na regressão logística. Plote a matriz de confusão e a árvore usando plot_tree.\n",
        "4. Ajuste os classificadores anteriores, mas dessa vez passando a opção de manter as classes balanceadas e usando a variável sex. Gere novamente a árvore usando plot_tree. Como a variável sex influencia na classificação do modelo?\n",
        "5. Calcule as learning_curves, use todas as variáveis e faça o diagnóstico se está acontecendo overfitting ou underfitting."
      ],
      "id": "7c116301"
    },
    {
      "cell_type": "code",
      "execution_count": null,
      "metadata": {
        "id": "6a826bfe"
      },
      "outputs": [],
      "source": [
        "dados1 = pd.read_csv('https://raw.githubusercontent.com/abnr/ml-data/main/gerber.csv')"
      ],
      "id": "6a826bfe"
    },
    {
      "cell_type": "code",
      "execution_count": null,
      "metadata": {
        "colab": {
          "base_uri": "https://localhost:8080/",
          "height": 206
        },
        "id": "46afdc45",
        "outputId": "329e213a-b9fd-4df0-8974-555dd3525672"
      },
      "outputs": [
        {
          "data": {
            "text/html": [
              "\n",
              "  <div id=\"df-5e958cf0-757c-4339-99f2-9a94b3d78e21\">\n",
              "    <div class=\"colab-df-container\">\n",
              "      <div>\n",
              "<style scoped>\n",
              "    .dataframe tbody tr th:only-of-type {\n",
              "        vertical-align: middle;\n",
              "    }\n",
              "\n",
              "    .dataframe tbody tr th {\n",
              "        vertical-align: top;\n",
              "    }\n",
              "\n",
              "    .dataframe thead th {\n",
              "        text-align: right;\n",
              "    }\n",
              "</style>\n",
              "<table border=\"1\" class=\"dataframe\">\n",
              "  <thead>\n",
              "    <tr style=\"text-align: right;\">\n",
              "      <th></th>\n",
              "      <th>sex</th>\n",
              "      <th>yob</th>\n",
              "      <th>voting</th>\n",
              "      <th>hawthorne</th>\n",
              "      <th>civicduty</th>\n",
              "      <th>neighbors</th>\n",
              "      <th>self</th>\n",
              "      <th>control</th>\n",
              "    </tr>\n",
              "  </thead>\n",
              "  <tbody>\n",
              "    <tr>\n",
              "      <th>0</th>\n",
              "      <td>0</td>\n",
              "      <td>1941</td>\n",
              "      <td>0</td>\n",
              "      <td>0</td>\n",
              "      <td>1</td>\n",
              "      <td>0</td>\n",
              "      <td>0</td>\n",
              "      <td>0</td>\n",
              "    </tr>\n",
              "    <tr>\n",
              "      <th>1</th>\n",
              "      <td>1</td>\n",
              "      <td>1947</td>\n",
              "      <td>0</td>\n",
              "      <td>0</td>\n",
              "      <td>1</td>\n",
              "      <td>0</td>\n",
              "      <td>0</td>\n",
              "      <td>0</td>\n",
              "    </tr>\n",
              "    <tr>\n",
              "      <th>2</th>\n",
              "      <td>1</td>\n",
              "      <td>1982</td>\n",
              "      <td>1</td>\n",
              "      <td>1</td>\n",
              "      <td>0</td>\n",
              "      <td>0</td>\n",
              "      <td>0</td>\n",
              "      <td>0</td>\n",
              "    </tr>\n",
              "    <tr>\n",
              "      <th>3</th>\n",
              "      <td>1</td>\n",
              "      <td>1950</td>\n",
              "      <td>1</td>\n",
              "      <td>1</td>\n",
              "      <td>0</td>\n",
              "      <td>0</td>\n",
              "      <td>0</td>\n",
              "      <td>0</td>\n",
              "    </tr>\n",
              "    <tr>\n",
              "      <th>4</th>\n",
              "      <td>0</td>\n",
              "      <td>1951</td>\n",
              "      <td>1</td>\n",
              "      <td>1</td>\n",
              "      <td>0</td>\n",
              "      <td>0</td>\n",
              "      <td>0</td>\n",
              "      <td>0</td>\n",
              "    </tr>\n",
              "  </tbody>\n",
              "</table>\n",
              "</div>\n",
              "      <button class=\"colab-df-convert\" onclick=\"convertToInteractive('df-5e958cf0-757c-4339-99f2-9a94b3d78e21')\"\n",
              "              title=\"Convert this dataframe to an interactive table.\"\n",
              "              style=\"display:none;\">\n",
              "        \n",
              "  <svg xmlns=\"http://www.w3.org/2000/svg\" height=\"24px\"viewBox=\"0 0 24 24\"\n",
              "       width=\"24px\">\n",
              "    <path d=\"M0 0h24v24H0V0z\" fill=\"none\"/>\n",
              "    <path d=\"M18.56 5.44l.94 2.06.94-2.06 2.06-.94-2.06-.94-.94-2.06-.94 2.06-2.06.94zm-11 1L8.5 8.5l.94-2.06 2.06-.94-2.06-.94L8.5 2.5l-.94 2.06-2.06.94zm10 10l.94 2.06.94-2.06 2.06-.94-2.06-.94-.94-2.06-.94 2.06-2.06.94z\"/><path d=\"M17.41 7.96l-1.37-1.37c-.4-.4-.92-.59-1.43-.59-.52 0-1.04.2-1.43.59L10.3 9.45l-7.72 7.72c-.78.78-.78 2.05 0 2.83L4 21.41c.39.39.9.59 1.41.59.51 0 1.02-.2 1.41-.59l7.78-7.78 2.81-2.81c.8-.78.8-2.07 0-2.86zM5.41 20L4 18.59l7.72-7.72 1.47 1.35L5.41 20z\"/>\n",
              "  </svg>\n",
              "      </button>\n",
              "      \n",
              "  <style>\n",
              "    .colab-df-container {\n",
              "      display:flex;\n",
              "      flex-wrap:wrap;\n",
              "      gap: 12px;\n",
              "    }\n",
              "\n",
              "    .colab-df-convert {\n",
              "      background-color: #E8F0FE;\n",
              "      border: none;\n",
              "      border-radius: 50%;\n",
              "      cursor: pointer;\n",
              "      display: none;\n",
              "      fill: #1967D2;\n",
              "      height: 32px;\n",
              "      padding: 0 0 0 0;\n",
              "      width: 32px;\n",
              "    }\n",
              "\n",
              "    .colab-df-convert:hover {\n",
              "      background-color: #E2EBFA;\n",
              "      box-shadow: 0px 1px 2px rgba(60, 64, 67, 0.3), 0px 1px 3px 1px rgba(60, 64, 67, 0.15);\n",
              "      fill: #174EA6;\n",
              "    }\n",
              "\n",
              "    [theme=dark] .colab-df-convert {\n",
              "      background-color: #3B4455;\n",
              "      fill: #D2E3FC;\n",
              "    }\n",
              "\n",
              "    [theme=dark] .colab-df-convert:hover {\n",
              "      background-color: #434B5C;\n",
              "      box-shadow: 0px 1px 3px 1px rgba(0, 0, 0, 0.15);\n",
              "      filter: drop-shadow(0px 1px 2px rgba(0, 0, 0, 0.3));\n",
              "      fill: #FFFFFF;\n",
              "    }\n",
              "  </style>\n",
              "\n",
              "      <script>\n",
              "        const buttonEl =\n",
              "          document.querySelector('#df-5e958cf0-757c-4339-99f2-9a94b3d78e21 button.colab-df-convert');\n",
              "        buttonEl.style.display =\n",
              "          google.colab.kernel.accessAllowed ? 'block' : 'none';\n",
              "\n",
              "        async function convertToInteractive(key) {\n",
              "          const element = document.querySelector('#df-5e958cf0-757c-4339-99f2-9a94b3d78e21');\n",
              "          const dataTable =\n",
              "            await google.colab.kernel.invokeFunction('convertToInteractive',\n",
              "                                                     [key], {});\n",
              "          if (!dataTable) return;\n",
              "\n",
              "          const docLinkHtml = 'Like what you see? Visit the ' +\n",
              "            '<a target=\"_blank\" href=https://colab.research.google.com/notebooks/data_table.ipynb>data table notebook</a>'\n",
              "            + ' to learn more about interactive tables.';\n",
              "          element.innerHTML = '';\n",
              "          dataTable['output_type'] = 'display_data';\n",
              "          await google.colab.output.renderOutput(dataTable, element);\n",
              "          const docLink = document.createElement('div');\n",
              "          docLink.innerHTML = docLinkHtml;\n",
              "          element.appendChild(docLink);\n",
              "        }\n",
              "      </script>\n",
              "    </div>\n",
              "  </div>\n",
              "  "
            ],
            "text/plain": [
              "   sex   yob  voting  hawthorne  civicduty  neighbors  self  control\n",
              "0    0  1941       0          0          1          0     0        0\n",
              "1    1  1947       0          0          1          0     0        0\n",
              "2    1  1982       1          1          0          0     0        0\n",
              "3    1  1950       1          1          0          0     0        0\n",
              "4    0  1951       1          1          0          0     0        0"
            ]
          },
          "execution_count": 3,
          "metadata": {},
          "output_type": "execute_result"
        }
      ],
      "source": [
        "dados1.head()"
      ],
      "id": "46afdc45"
    },
    {
      "cell_type": "code",
      "execution_count": null,
      "metadata": {
        "colab": {
          "base_uri": "https://localhost:8080/"
        },
        "id": "DsMkr3cAlLoK",
        "outputId": "3e277d75-cae4-490c-8ce9-8b4170ec23b8"
      },
      "outputs": [
        {
          "data": {
            "text/plain": [
              "Index(['sex', 'yob', 'voting', 'hawthorne', 'civicduty', 'neighbors', 'self',\n",
              "       'control'],\n",
              "      dtype='object')"
            ]
          },
          "execution_count": 4,
          "metadata": {},
          "output_type": "execute_result"
        }
      ],
      "source": [
        "dados1.columns"
      ],
      "id": "DsMkr3cAlLoK"
    },
    {
      "cell_type": "code",
      "execution_count": null,
      "metadata": {
        "colab": {
          "base_uri": "https://localhost:8080/"
        },
        "id": "LwYpErUKlL3S",
        "outputId": "a9fffaa0-6f69-4f12-b8bd-8ea3d9eccbc4"
      },
      "outputs": [
        {
          "name": "stdout",
          "output_type": "stream",
          "text": [
            "<class 'pandas.core.frame.DataFrame'>\n",
            "RangeIndex: 344084 entries, 0 to 344083\n",
            "Data columns (total 8 columns):\n",
            " #   Column     Non-Null Count   Dtype\n",
            "---  ------     --------------   -----\n",
            " 0   sex        344084 non-null  int64\n",
            " 1   yob        344084 non-null  int64\n",
            " 2   voting     344084 non-null  int64\n",
            " 3   hawthorne  344084 non-null  int64\n",
            " 4   civicduty  344084 non-null  int64\n",
            " 5   neighbors  344084 non-null  int64\n",
            " 6   self       344084 non-null  int64\n",
            " 7   control    344084 non-null  int64\n",
            "dtypes: int64(8)\n",
            "memory usage: 21.0 MB\n"
          ]
        }
      ],
      "source": [
        "dados1.info()"
      ],
      "id": "LwYpErUKlL3S"
    },
    {
      "cell_type": "code",
      "execution_count": null,
      "metadata": {
        "colab": {
          "base_uri": "https://localhost:8080/",
          "height": 1000
        },
        "id": "S44EO5BqlL6R",
        "outputId": "29a6dd95-9400-4969-9523-1413e13b245f"
      },
      "outputs": [
        {
          "name": "stdout",
          "output_type": "stream",
          "text": [
            "SEX\n",
            "hawthorne\n"
          ]
        },
        {
          "data": {
            "image/png": "[encoded data removed]",
            "text/plain": [
              "<Figure size 360x360 with 1 Axes>"
            ]
          },
          "metadata": {},
          "output_type": "display_data"
        },
        {
          "name": "stdout",
          "output_type": "stream",
          "text": [
            "civicduty\n"
          ]
        },
        {
          "data": {
            "image/png": "[encoded data removed]",
            "text/plain": [
              "<Figure size 360x360 with 1 Axes>"
            ]
          },
          "metadata": {},
          "output_type": "display_data"
        },
        {
          "name": "stdout",
          "output_type": "stream",
          "text": [
            "neighbors\n"
          ]
        },
        {
          "data": {
            "image/png": "[encoded data removed]",
            "text/plain": [
              "<Figure size 360x360 with 1 Axes>"
            ]
          },
          "metadata": {},
          "output_type": "display_data"
        },
        {
          "name": "stdout",
          "output_type": "stream",
          "text": [
            "self\n"
          ]
        },
        {
          "data": {
            "image/png": "[encoded data removed]",
            "text/plain": [
              "<Figure size 360x360 with 1 Axes>"
            ]
          },
          "metadata": {},
          "output_type": "display_data"
        },
        {
          "name": "stdout",
          "output_type": "stream",
          "text": [
            "control\n"
          ]
        },
        {
          "data": {
            "image/png": "[encoded data removed]",
            "text/plain": [
              "<Figure size 360x360 with 1 Axes>"
            ]
          },
          "metadata": {},
          "output_type": "display_data"
        },
        {
          "name": "stdout",
          "output_type": "stream",
          "text": [
            "\n",
            "\n",
            "YOB\n",
            "hawthorne\n"
          ]
        },
        {
          "data": {
            "image/png": "[encoded data removed]",
            "text/plain": [
              "<Figure size 360x360 with 1 Axes>"
            ]
          },
          "metadata": {},
          "output_type": "display_data"
        },
        {
          "name": "stdout",
          "output_type": "stream",
          "text": [
            "civicduty\n"
          ]
        },
        {
          "data": {
            "image/png": "[encoded data removed]",
            "text/plain": [
              "<Figure size 360x360 with 1 Axes>"
            ]
          },
          "metadata": {},
          "output_type": "display_data"
        },
        {
          "name": "stdout",
          "output_type": "stream",
          "text": [
            "neighbors\n"
          ]
        },
        {
          "data": {
            "image/png": "[encoded data removed]",
            "text/plain": [
              "<Figure size 360x360 with 1 Axes>"
            ]
          },
          "metadata": {},
          "output_type": "display_data"
        },
        {
          "name": "stdout",
          "output_type": "stream",
          "text": [
            "self\n"
          ]
        },
        {
          "data": {
            "image/png": "[encoded data removed]",
            "text/plain": [
              "<Figure size 360x360 with 1 Axes>"
            ]
          },
          "metadata": {},
          "output_type": "display_data"
        },
        {
          "name": "stdout",
          "output_type": "stream",
          "text": [
            "control\n"
          ]
        },
        {
          "data": {
            "image/png": "[encoded data removed]",
            "text/plain": [
              "<Figure size 360x360 with 1 Axes>"
            ]
          },
          "metadata": {},
          "output_type": "display_data"
        },
        {
          "name": "stdout",
          "output_type": "stream",
          "text": [
            "\n",
            "\n",
            "VOTING\n",
            "hawthorne\n"
          ]
        },
        {
          "data": {
            "image/png": "[encoded data removed]",
            "text/plain": [
              "<Figure size 360x360 with 1 Axes>"
            ]
          },
          "metadata": {},
          "output_type": "display_data"
        },
        {
          "name": "stdout",
          "output_type": "stream",
          "text": [
            "civicduty\n"
          ]
        },
        {
          "data": {
            "image/png": "[encoded data removed]",
            "text/plain": [
              "<Figure size 360x360 with 1 Axes>"
            ]
          },
          "metadata": {},
          "output_type": "display_data"
        },
        {
          "name": "stdout",
          "output_type": "stream",
          "text": [
            "neighbors\n"
          ]
        },
        {
          "data": {
            "image/png": "[encoded data removed]",
            "text/plain": [
              "<Figure size 360x360 with 1 Axes>"
            ]
          },
          "metadata": {},
          "output_type": "display_data"
        },
        {
          "name": "stdout",
          "output_type": "stream",
          "text": [
            "self\n"
          ]
        },
        {
          "data": {
            "image/png": "[encoded data removed]",
            "text/plain": [
              "<Figure size 360x360 with 1 Axes>"
            ]
          },
          "metadata": {},
          "output_type": "display_data"
        },
        {
          "name": "stdout",
          "output_type": "stream",
          "text": [
            "control\n"
          ]
        },
        {
          "data": {
            "image/png": "[encoded data removed]",
            "text/plain": [
              "<Figure size 360x360 with 1 Axes>"
            ]
          },
          "metadata": {},
          "output_type": "display_data"
        },
        {
          "name": "stdout",
          "output_type": "stream",
          "text": [
            "\n",
            "\n"
          ]
        }
      ],
      "source": [
        "print('SEX')\n",
        "for coluna in  ['hawthorne', 'civicduty', 'neighbors', 'self', 'control']:\n",
        "  print(coluna)\n",
        "  dados1[dados1[coluna] == 1].hist(column=['sex'], figsize=(5,5))\n",
        "  plt.show()\n",
        "print('\\n')\n",
        "print('YOB')\n",
        "for coluna in  ['hawthorne', 'civicduty', 'neighbors', 'self', 'control']:\n",
        "  print(coluna)\n",
        "  dados1[dados1[coluna] == 1].hist(column=['yob'], figsize=(5,5))\n",
        "  plt.show()\n",
        "print('\\n')\n",
        "print('VOTING')\n",
        "for coluna in  ['hawthorne', 'civicduty', 'neighbors', 'self', 'control']:\n",
        "  print(coluna)\n",
        "  dados1[dados1[coluna] == 1].hist(column=['voting'], figsize=(5,5))\n",
        "  plt.show()\n",
        "print('\\n')"
      ],
      "id": "S44EO5BqlL6R"
    },
    {
      "cell_type": "code",
      "execution_count": null,
      "metadata": {
        "colab": {
          "base_uri": "https://localhost:8080/"
        },
        "id": "Dv12PUKjlL-D",
        "outputId": "a460baaf-1c85-4285-aa87-89563987416a"
      },
      "outputs": [
        {
          "data": {
            "text/plain": [
              "LogisticRegression()"
            ]
          },
          "execution_count": 7,
          "metadata": {},
          "output_type": "execute_result"
        }
      ],
      "source": [
        "#Ajustando RegLog\n",
        "X=dados1[['hawthorne', 'civicduty', 'neighbors', 'self', 'control', 'sex', 'yob']]\n",
        "y=dados1['voting']\n",
        "X_train, X_test, y_train, y_test = train_test_split(X, y, test_size=0.5, random_state=123, stratify=y)\n",
        "\n",
        "modelo_reglog=LogisticRegression()\n",
        "modelo_reglog.fit(X_train[['hawthorne', 'civicduty', 'neighbors', 'self', 'control']],y_train)"
      ],
      "id": "Dv12PUKjlL-D"
    },
    {
      "cell_type": "code",
      "execution_count": null,
      "metadata": {
        "colab": {
          "base_uri": "https://localhost:8080/",
          "height": 206
        },
        "id": "PSNeWCMRlL_4",
        "outputId": "dfc54ee8-3174-4c70-f482-80cad5f66d21"
      },
      "outputs": [
        {
          "data": {
            "text/html": [
              "\n",
              "  <div id=\"df-ccb2e195-0da4-48ce-97f3-f08949f3a70a\">\n",
              "    <div class=\"colab-df-container\">\n",
              "      <div>\n",
              "<style scoped>\n",
              "    .dataframe tbody tr th:only-of-type {\n",
              "        vertical-align: middle;\n",
              "    }\n",
              "\n",
              "    .dataframe tbody tr th {\n",
              "        vertical-align: top;\n",
              "    }\n",
              "\n",
              "    .dataframe thead th {\n",
              "        text-align: right;\n",
              "    }\n",
              "</style>\n",
              "<table border=\"1\" class=\"dataframe\">\n",
              "  <thead>\n",
              "    <tr style=\"text-align: right;\">\n",
              "      <th></th>\n",
              "      <th>0</th>\n",
              "    </tr>\n",
              "  </thead>\n",
              "  <tbody>\n",
              "    <tr>\n",
              "      <th>hawthorne</th>\n",
              "      <td>-0.150385</td>\n",
              "    </tr>\n",
              "    <tr>\n",
              "      <th>civicduty</th>\n",
              "      <td>-0.189663</td>\n",
              "    </tr>\n",
              "    <tr>\n",
              "      <th>neighbors</th>\n",
              "      <td>0.087603</td>\n",
              "    </tr>\n",
              "    <tr>\n",
              "      <th>self</th>\n",
              "      <td>-0.054755</td>\n",
              "    </tr>\n",
              "    <tr>\n",
              "      <th>control</th>\n",
              "      <td>-0.278615</td>\n",
              "    </tr>\n",
              "  </tbody>\n",
              "</table>\n",
              "</div>\n",
              "      <button class=\"colab-df-convert\" onclick=\"convertToInteractive('df-ccb2e195-0da4-48ce-97f3-f08949f3a70a')\"\n",
              "              title=\"Convert this dataframe to an interactive table.\"\n",
              "              style=\"display:none;\">\n",
              "        \n",
              "  <svg xmlns=\"http://www.w3.org/2000/svg\" height=\"24px\"viewBox=\"0 0 24 24\"\n",
              "       width=\"24px\">\n",
              "    <path d=\"M0 0h24v24H0V0z\" fill=\"none\"/>\n",
              "    <path d=\"M18.56 5.44l.94 2.06.94-2.06 2.06-.94-2.06-.94-.94-2.06-.94 2.06-2.06.94zm-11 1L8.5 8.5l.94-2.06 2.06-.94-2.06-.94L8.5 2.5l-.94 2.06-2.06.94zm10 10l.94 2.06.94-2.06 2.06-.94-2.06-.94-.94-2.06-.94 2.06-2.06.94z\"/><path d=\"M17.41 7.96l-1.37-1.37c-.4-.4-.92-.59-1.43-.59-.52 0-1.04.2-1.43.59L10.3 9.45l-7.72 7.72c-.78.78-.78 2.05 0 2.83L4 21.41c.39.39.9.59 1.41.59.51 0 1.02-.2 1.41-.59l7.78-7.78 2.81-2.81c.8-.78.8-2.07 0-2.86zM5.41 20L4 18.59l7.72-7.72 1.47 1.35L5.41 20z\"/>\n",
              "  </svg>\n",
              "      </button>\n",
              "      \n",
              "  <style>\n",
              "    .colab-df-container {\n",
              "      display:flex;\n",
              "      flex-wrap:wrap;\n",
              "      gap: 12px;\n",
              "    }\n",
              "\n",
              "    .colab-df-convert {\n",
              "      background-color: #E8F0FE;\n",
              "      border: none;\n",
              "      border-radius: 50%;\n",
              "      cursor: pointer;\n",
              "      display: none;\n",
              "      fill: #1967D2;\n",
              "      height: 32px;\n",
              "      padding: 0 0 0 0;\n",
              "      width: 32px;\n",
              "    }\n",
              "\n",
              "    .colab-df-convert:hover {\n",
              "      background-color: #E2EBFA;\n",
              "      box-shadow: 0px 1px 2px rgba(60, 64, 67, 0.3), 0px 1px 3px 1px rgba(60, 64, 67, 0.15);\n",
              "      fill: #174EA6;\n",
              "    }\n",
              "\n",
              "    [theme=dark] .colab-df-convert {\n",
              "      background-color: #3B4455;\n",
              "      fill: #D2E3FC;\n",
              "    }\n",
              "\n",
              "    [theme=dark] .colab-df-convert:hover {\n",
              "      background-color: #434B5C;\n",
              "      box-shadow: 0px 1px 3px 1px rgba(0, 0, 0, 0.15);\n",
              "      filter: drop-shadow(0px 1px 2px rgba(0, 0, 0, 0.3));\n",
              "      fill: #FFFFFF;\n",
              "    }\n",
              "  </style>\n",
              "\n",
              "      <script>\n",
              "        const buttonEl =\n",
              "          document.querySelector('#df-ccb2e195-0da4-48ce-97f3-f08949f3a70a button.colab-df-convert');\n",
              "        buttonEl.style.display =\n",
              "          google.colab.kernel.accessAllowed ? 'block' : 'none';\n",
              "\n",
              "        async function convertToInteractive(key) {\n",
              "          const element = document.querySelector('#df-ccb2e195-0da4-48ce-97f3-f08949f3a70a');\n",
              "          const dataTable =\n",
              "            await google.colab.kernel.invokeFunction('convertToInteractive',\n",
              "                                                     [key], {});\n",
              "          if (!dataTable) return;\n",
              "\n",
              "          const docLinkHtml = 'Like what you see? Visit the ' +\n",
              "            '<a target=\"_blank\" href=https://colab.research.google.com/notebooks/data_table.ipynb>data table notebook</a>'\n",
              "            + ' to learn more about interactive tables.';\n",
              "          element.innerHTML = '';\n",
              "          dataTable['output_type'] = 'display_data';\n",
              "          await google.colab.output.renderOutput(dataTable, element);\n",
              "          const docLink = document.createElement('div');\n",
              "          docLink.innerHTML = docLinkHtml;\n",
              "          element.appendChild(docLink);\n",
              "        }\n",
              "      </script>\n",
              "    </div>\n",
              "  </div>\n",
              "  "
            ],
            "text/plain": [
              "                  0\n",
              "hawthorne -0.150385\n",
              "civicduty -0.189663\n",
              "neighbors  0.087603\n",
              "self      -0.054755\n",
              "control   -0.278615"
            ]
          },
          "execution_count": 8,
          "metadata": {},
          "output_type": "execute_result"
        }
      ],
      "source": [
        "coefs_reglog=pd.DataFrame(modelo_reglog.coef_,columns=X[['hawthorne', 'civicduty', 'neighbors', 'self', 'control']].columns).T\n",
        "coefs_reglog"
      ],
      "id": "PSNeWCMRlL_4"
    },
    {
      "cell_type": "code",
      "execution_count": null,
      "metadata": {
        "id": "Op5dHqvAlMCv"
      },
      "outputs": [],
      "source": [
        "def plot_confusion_matrix(cm, classes,\n",
        "                          normalize=False,\n",
        "                          title='Confusion matrix',\n",
        "                          cmap=plt.cm.Blues):\n",
        "    \"\"\"\n",
        "    This function prints and plots the confusion matrix.\n",
        "    Normalization can be applied by setting `normalize=True`.\n",
        "    \"\"\"\n",
        "    import itertools\n",
        "    if normalize:\n",
        "        cm = cm.astype('float') / cm.sum(axis=1)[:, np.newaxis]\n",
        "#         print(\"Normalized confusion matrix\")\n",
        "#     else:\n",
        "#         print('Confusion matrix, without normalization')\n",
        "\n",
        "#     print(cm)\n",
        "\n",
        "    plt.imshow(cm, interpolation='nearest', cmap=cmap)\n",
        "    plt.title(title)\n",
        "    plt.colorbar()\n",
        "    tick_marks = np.arange(len(classes))\n",
        "    plt.xticks(tick_marks, classes, rotation=45)\n",
        "    plt.yticks(tick_marks, classes)\n",
        "\n",
        "    fmt = '.2f' if normalize else 'd'\n",
        "    thresh = cm.max() / 2.\n",
        "    for i, j in itertools.product(range(cm.shape[0]), range(cm.shape[1])):\n",
        "        plt.text(j, i, format(cm[i, j], fmt),\n",
        "                 horizontalalignment=\"center\",\n",
        "                 color=\"white\" if cm[i, j] > thresh else \"black\")\n",
        "\n",
        "    plt.tight_layout()\n",
        "    plt.ylabel('True label')\n",
        "    plt.xlabel('Predicted label')\n",
        "    plt.grid(False)\n",
        "\n",
        "class_names = ['Votou', 'Não Votou']"
      ],
      "id": "Op5dHqvAlMCv"
    },
    {
      "cell_type": "code",
      "execution_count": null,
      "metadata": {
        "colab": {
          "base_uri": "https://localhost:8080/",
          "height": 311
        },
        "id": "07eJn3r5lMGy",
        "outputId": "456cd07b-a624-4471-e76b-e84446265448"
      },
      "outputs": [
        {
          "data": {
            "image/png": "[encoded data removed]",
            "text/plain": [
              "<Figure size 432x288 with 2 Axes>"
            ]
          },
          "metadata": {},
          "output_type": "display_data"
        }
      ],
      "source": [
        "predict_reglog = [1 if pred >= .30 else 0 for pred in modelo_reglog.predict_proba(X_train[['hawthorne', 'civicduty', 'neighbors', 'self', 'control']])[:,1]]\n",
        "plot_confusion_matrix(confusion_matrix(y_train, predict_reglog, labels=[1, 0]), classes=class_names, title='Matriz para 0,30')"
      ],
      "id": "07eJn3r5lMGy"
    },
    {
      "cell_type": "code",
      "execution_count": null,
      "metadata": {
        "colab": {
          "base_uri": "https://localhost:8080/",
          "height": 351
        },
        "id": "w_4Rg9qClMIw",
        "outputId": "c4cd8515-5235-44d0-e9fa-57c7895df804"
      },
      "outputs": [
        {
          "name": "stderr",
          "output_type": "stream",
          "text": [
            "/usr/local/lib/python3.7/dist-packages/sklearn/utils/deprecation.py:87: FutureWarning: Function plot_roc_curve is deprecated; Function :func:`plot_roc_curve` is deprecated in 1.0 and will be removed in 1.2. Use one of the class methods: :meth:`sklearn.metric.RocCurveDisplay.from_predictions` or :meth:`sklearn.metric.RocCurveDisplay.from_estimator`.\n",
            "  warnings.warn(msg, category=FutureWarning)\n"
          ]
        },
        {
          "data": {
            "text/plain": [
              "<sklearn.metrics._plot.roc_curve.RocCurveDisplay at 0x7f1fe7b30dd0>"
            ]
          },
          "execution_count": 11,
          "metadata": {},
          "output_type": "execute_result"
        },
        {
          "data": {
            "image/png": "[encoded data removed]",
            "text/plain": [
              "<Figure size 432x288 with 1 Axes>"
            ]
          },
          "metadata": {},
          "output_type": "display_data"
        }
      ],
      "source": [
        "plot_roc_curve(modelo_reglog, X_train[['hawthorne', 'civicduty', 'neighbors', 'self', 'control']], y_train)"
      ],
      "id": "w_4Rg9qClMIw"
    },
    {
      "cell_type": "code",
      "execution_count": null,
      "metadata": {
        "colab": {
          "base_uri": "https://localhost:8080/"
        },
        "id": "IsZ34wd8lMLM",
        "outputId": "2bac1c24-77ca-4ba5-9b72-53246cf3d0e9"
      },
      "outputs": [
        {
          "data": {
            "text/plain": [
              "DecisionTreeClassifier()"
            ]
          },
          "execution_count": 12,
          "metadata": {},
          "output_type": "execute_result"
        }
      ],
      "source": [
        "#Árvore de Decisão\n",
        "modelo_arvore=DecisionTreeClassifier()\n",
        "modelo_arvore.fit(X_train[['hawthorne', 'civicduty', 'neighbors', 'self', 'control']],y_train)"
      ],
      "id": "IsZ34wd8lMLM"
    },
    {
      "cell_type": "code",
      "execution_count": null,
      "metadata": {
        "colab": {
          "base_uri": "https://localhost:8080/"
        },
        "id": "chugSZKllMOz",
        "outputId": "2a825b41-1bcb-486e-d37d-289455a9b904"
      },
      "outputs": [
        {
          "data": {
            "text/plain": [
              "[Text(0.7142857142857143, 0.9, 'control <= 0.5\\ngini = 0.432\\nsamples = 172042\\nvalue = [117694, 54348]'),\n",
              " Text(0.5714285714285714, 0.7, 'neighbors <= 0.5\\ngini = 0.449\\nsamples = 76291\\nvalue = [50318, 25973]'),\n",
              " Text(0.42857142857142855, 0.5, 'self <= 0.5\\ngini = 0.441\\nsamples = 57297\\nvalue = [38501, 18796]'),\n",
              " Text(0.2857142857142857, 0.3, 'hawthorne <= 0.5\\ngini = 0.435\\nsamples = 38175\\nvalue = [25978, 12197]'),\n",
              " Text(0.14285714285714285, 0.1, 'gini = 0.432\\nsamples = 18971\\nvalue = [12992, 5979]'),\n",
              " Text(0.42857142857142855, 0.1, 'gini = 0.438\\nsamples = 19204\\nvalue = [12986, 6218]'),\n",
              " Text(0.5714285714285714, 0.3, 'gini = 0.452\\nsamples = 19122\\nvalue = [12523, 6599]'),\n",
              " Text(0.7142857142857143, 0.5, 'gini = 0.47\\nsamples = 18994\\nvalue = [11817, 7177]'),\n",
              " Text(0.8571428571428571, 0.7, 'gini = 0.417\\nsamples = 95751\\nvalue = [67376, 28375]')]"
            ]
          },
          "execution_count": 13,
          "metadata": {},
          "output_type": "execute_result"
        },
        {
          "data": {
            "image/png": "[encoded data removed]",
            "text/plain": [
              "<Figure size 432x288 with 1 Axes>"
            ]
          },
          "metadata": {},
          "output_type": "display_data"
        }
      ],
      "source": [
        "plot_tree(modelo_arvore,feature_names=X_train[['hawthorne', 'civicduty', 'neighbors', 'self', 'control']].columns)"
      ],
      "id": "chugSZKllMOz"
    },
    {
      "cell_type": "code",
      "execution_count": null,
      "metadata": {
        "colab": {
          "base_uri": "https://localhost:8080/",
          "height": 54
        },
        "id": "LlkvRkydmU3t",
        "outputId": "564d1c7d-6535-4fc5-911e-15d06210bc89"
      },
      "outputs": [
        {
          "data": {
            "image/png": "[encoded data removed]",
            "text/plain": [
              "<Figure size 432x288 with 2 Axes>"
            ]
          },
          "metadata": {},
          "output_type": "display_data"
        }
      ],
      "source": [
        "predict_arvore = [1 if pred >= .30 else 0 for pred in modelo_arvore.predict_proba(X_train[['hawthorne', 'civicduty', 'neighbors', 'self', 'control']])[:,1]]\n",
        "plot_confusion_matrix(confusion_matrix(y_train, predict_arvore, labels=[1, 0]), classes=class_names, title='Matriz para 0,30')"
      ],
      "id": "LlkvRkydmU3t"
    },
    {
      "cell_type": "code",
      "execution_count": null,
      "metadata": {
        "colab": {
          "base_uri": "https://localhost:8080/"
        },
        "id": "UzP46t2vmU7x",
        "outputId": "472b7050-d78b-42f0-bd1f-0f33ac1df2ff"
      },
      "outputs": [
        {
          "data": {
            "text/plain": [
              "LogisticRegression(class_weight='balanced')"
            ]
          },
          "execution_count": 15,
          "metadata": {},
          "output_type": "execute_result"
        }
      ],
      "source": [
        "modelo_reglog_sex=LogisticRegression(class_weight='balanced')\n",
        "modelo_reglog_sex.fit(X_train[['hawthorne', 'civicduty', 'neighbors', 'self', 'control','sex']],y_train)"
      ],
      "id": "UzP46t2vmU7x"
    },
    {
      "cell_type": "code",
      "execution_count": null,
      "metadata": {
        "colab": {
          "base_uri": "https://localhost:8080/"
        },
        "id": "fAucxAS-mU_9",
        "outputId": "4eab63d5-5a66-4bdf-c6bb-ca241e46a5f7"
      },
      "outputs": [
        {
          "data": {
            "image/png": "[encoded data removed]",
            "text/plain": [
              "<Figure size 432x288 with 2 Axes>"
            ]
          },
          "metadata": {},
          "output_type": "display_data"
        }
      ],
      "source": [
        "predict_reglog_sex = [1 if pred >= .50 else 0 for pred in modelo_reglog_sex.predict_proba(X_train[['hawthorne', 'civicduty', 'neighbors', 'self', 'control','sex']])[:,1]]\n",
        "plot_confusion_matrix(confusion_matrix(y_train, predict_reglog_sex, labels=[1, 0]), classes=class_names, title='Matriz para 0,50')"
      ],
      "id": "fAucxAS-mU_9"
    },
    {
      "cell_type": "code",
      "execution_count": null,
      "metadata": {
        "colab": {
          "base_uri": "https://localhost:8080/"
        },
        "id": "y73sXZnFmj61",
        "outputId": "bbd912ec-e0a6-40f0-d7d7-ef2791c91132"
      },
      "outputs": [
        {
          "name": "stderr",
          "output_type": "stream",
          "text": [
            "/usr/local/lib/python3.7/dist-packages/sklearn/utils/deprecation.py:87: FutureWarning: Function plot_roc_curve is deprecated; Function :func:`plot_roc_curve` is deprecated in 1.0 and will be removed in 1.2. Use one of the class methods: :meth:`sklearn.metric.RocCurveDisplay.from_predictions` or :meth:`sklearn.metric.RocCurveDisplay.from_estimator`.\n",
            "  warnings.warn(msg, category=FutureWarning)\n"
          ]
        },
        {
          "data": {
            "text/plain": [
              "<sklearn.metrics._plot.roc_curve.RocCurveDisplay at 0x7f1fe7e0e250>"
            ]
          },
          "execution_count": 17,
          "metadata": {},
          "output_type": "execute_result"
        },
        {
          "data": {
            "image/png": "[encoded data removed]",
            "text/plain": [
              "<Figure size 432x288 with 1 Axes>"
            ]
          },
          "metadata": {},
          "output_type": "display_data"
        }
      ],
      "source": [
        "plot_roc_curve(modelo_reglog_sex,X_train[['hawthorne', 'civicduty', 'neighbors', 'self', 'control','sex']],y_train)"
      ],
      "id": "y73sXZnFmj61"
    },
    {
      "cell_type": "code",
      "execution_count": null,
      "metadata": {
        "colab": {
          "base_uri": "https://localhost:8080/"
        },
        "id": "t7J3Sf5vmkEm",
        "outputId": "ecba98b9-782d-4c49-8bcb-bbdedee4282e"
      },
      "outputs": [
        {
          "data": {
            "text/plain": [
              "DecisionTreeClassifier(class_weight='balanced')"
            ]
          },
          "execution_count": 18,
          "metadata": {},
          "output_type": "execute_result"
        }
      ],
      "source": [
        "#Árvore de Decisão\n",
        "modelo_arvore_sex=DecisionTreeClassifier(class_weight='balanced')\n",
        "modelo_arvore_sex.fit(X_train[['hawthorne', 'civicduty', 'neighbors', 'self', 'control','sex']],y_train)"
      ],
      "id": "t7J3Sf5vmkEm"
    },
    {
      "cell_type": "code",
      "execution_count": null,
      "metadata": {
        "id": "hMzHZ-LXmqFc"
      },
      "outputs": [],
      "source": [
        "plot_tree(modelo_arvore_sex)"
      ],
      "id": "hMzHZ-LXmqFc"
    },
    {
      "cell_type": "code",
      "execution_count": null,
      "metadata": {
        "colab": {
          "base_uri": "https://localhost:8080/"
        },
        "id": "SwOvPjiRmqQ4",
        "outputId": "882ef931-a623-4c58-9cd8-2473e35ec919"
      },
      "outputs": [
        {
          "data": {
            "image/png": "[encoded data removed]",
            "text/plain": [
              "<Figure size 432x288 with 2 Axes>"
            ]
          },
          "metadata": {},
          "output_type": "display_data"
        }
      ],
      "source": [
        "predict_arvore_sex = [1 if pred >= .50 else 0 for pred in modelo_arvore_sex.predict_proba(X_train[['hawthorne', 'civicduty', 'neighbors', 'self', 'control','sex']])[:,1]]\n",
        "plot_confusion_matrix(confusion_matrix(y_train, predict_arvore_sex, labels=[1, 0]), classes=class_names, title='Matriz para 0,50')"
      ],
      "id": "SwOvPjiRmqQ4"
    },
    {
      "cell_type": "code",
      "execution_count": null,
      "metadata": {
        "id": "fKoiIJZtm2qi"
      },
      "outputs": [],
      "source": [
        "from sklearn.model_selection import learning_curve\n",
        "from sklearn.model_selection import train_test_split,learning_curve,KFold, StratifiedKFold, LeaveOneOut, cross_validate, validation_curve"
      ],
      "id": "fKoiIJZtm2qi"
    },
    {
      "cell_type": "code",
      "execution_count": null,
      "metadata": {
        "id": "yLnwibzCm2yx"
      },
      "outputs": [],
      "source": [
        "cv_kfold_stratified = StratifiedKFold(n_splits=10, shuffle=True, random_state=123)\n",
        "train_sizes=np.linspace(.1, 1.0, 10)\n",
        "train_sizes, train_scores, test_scores, fit_times, _ = \\\n",
        "    learning_curve(estimator=modelo_reglog_sex, cv=cv_kfold_stratified, X=X_train, y=y_train, n_jobs=-1,\n",
        "                   train_sizes=train_sizes,\n",
        "                   return_times=True, scoring='neg_log_loss')"
      ],
      "id": "yLnwibzCm2yx"
    },
    {
      "cell_type": "code",
      "execution_count": null,
      "metadata": {
        "id": "O_Ny4j5km28K"
      },
      "outputs": [],
      "source": [
        "train_scores_mean = -np.mean(train_scores, axis=1)\n",
        "train_scores_std = -np.std(train_scores, axis=1)\n",
        "test_scores_mean = -np.mean(test_scores, axis=1)\n",
        "test_scores_std = -np.std(test_scores, axis=1)\n",
        "fit_times_mean = -np.mean(fit_times, axis=1)\n",
        "fit_times_std = -np.std(fit_times, axis=1)"
      ],
      "id": "O_Ny4j5km28K"
    },
    {
      "cell_type": "code",
      "execution_count": null,
      "metadata": {
        "colab": {
          "base_uri": "https://localhost:8080/"
        },
        "id": "S9jYwm3Qm2-6",
        "outputId": "9172894e-522c-4f9e-92f8-e1182e15daa2"
      },
      "outputs": [
        {
          "data": {
            "image/png": "[encoded data removed]",
            "text/plain": [
              "<Figure size 1440x360 with 1 Axes>"
            ]
          },
          "metadata": {},
          "output_type": "display_data"
        }
      ],
      "source": [
        "# Plot learning curve\n",
        "fig = plt.figure(figsize=(20, 5))\n",
        "\n",
        "plt.title('Learning Curve')\n",
        "plt.xlabel(\"Training examples\")\n",
        "plt.ylabel(\"Score\")\n",
        "plt.grid()\n",
        "#plt.ylim((0,1))\n",
        "plt.fill_between(train_sizes, train_scores_mean - train_scores_std,\n",
        "                     train_scores_mean + train_scores_std, alpha=0.1,\n",
        "                     color=\"r\")\n",
        "plt.fill_between(train_sizes, test_scores_mean - test_scores_std,\n",
        "                     test_scores_mean + test_scores_std, alpha=0.1,\n",
        "                     color=\"g\")\n",
        "plt.plot(train_sizes, train_scores_mean, 'o-', color=\"r\",\n",
        "             label=\"Training score\")\n",
        "plt.plot(train_sizes, test_scores_mean, 'o-', color=\"g\",\n",
        "             label=\"Cross-validation score\")\n",
        "plt.legend(loc=\"best\")\n",
        "plt.show()"
      ],
      "id": "S9jYwm3Qm2-6"
    },
    {
      "cell_type": "code",
      "execution_count": null,
      "metadata": {
        "id": "SNabVQOSm3DM"
      },
      "outputs": [],
      "source": [
        "cv_kfold_stratified = StratifiedKFold(n_splits=10, shuffle=True, random_state=123)\n",
        "train_sizes=np.linspace(.1, 1.0, 10)\n",
        "train_sizes, train_scores, test_scores, fit_times, _ = \\\n",
        "    learning_curve(estimator=modelo_arvore_sex, cv=cv_kfold_stratified, X=X_train, y=y_train, n_jobs=-1,\n",
        "                   train_sizes=train_sizes,\n",
        "                   return_times=True, scoring='neg_log_loss')"
      ],
      "id": "SNabVQOSm3DM"
    },
    {
      "cell_type": "code",
      "execution_count": null,
      "metadata": {
        "id": "xuDOgcVon8JG"
      },
      "outputs": [],
      "source": [
        "train_scores_mean = -np.mean(train_scores, axis=1)\n",
        "train_scores_std = -np.std(train_scores, axis=1)\n",
        "test_scores_mean = -np.mean(test_scores, axis=1)\n",
        "test_scores_std = -np.std(test_scores, axis=1)\n",
        "fit_times_mean = -np.mean(fit_times, axis=1)\n",
        "fit_times_std = -np.std(fit_times, axis=1)"
      ],
      "id": "xuDOgcVon8JG"
    },
    {
      "cell_type": "code",
      "execution_count": null,
      "metadata": {
        "colab": {
          "base_uri": "https://localhost:8080/"
        },
        "id": "6EId9yein8Mh",
        "outputId": "b2bfc68c-f60e-483b-c3f4-23ab3a1d95e3"
      },
      "outputs": [
        {
          "data": {
            "image/png": "[encoded data removed]",
            "text/plain": [
              "<Figure size 1440x360 with 1 Axes>"
            ]
          },
          "metadata": {},
          "output_type": "display_data"
        }
      ],
      "source": [
        "# Plot learning curve\n",
        "fig = plt.figure(figsize=(20, 5))\n",
        "\n",
        "plt.title('Learning Curve')\n",
        "plt.xlabel(\"Training examples\")\n",
        "plt.ylabel(\"Score\")\n",
        "plt.grid()\n",
        "#plt.ylim((0,1))\n",
        "plt.fill_between(train_sizes, train_scores_mean - train_scores_std,\n",
        "                     train_scores_mean + train_scores_std, alpha=0.1,\n",
        "                     color=\"r\")\n",
        "plt.fill_between(train_sizes, test_scores_mean - test_scores_std,\n",
        "                     test_scores_mean + test_scores_std, alpha=0.1,\n",
        "                     color=\"g\")\n",
        "plt.plot(train_sizes, train_scores_mean, 'o-', color=\"r\",\n",
        "             label=\"Training score\")\n",
        "plt.plot(train_sizes, test_scores_mean, 'o-', color=\"g\",\n",
        "             label=\"Cross-validation score\")\n",
        "plt.legend(loc=\"best\")\n",
        "plt.show()"
      ],
      "id": "6EId9yein8Mh"
    },
    {
      "cell_type": "code",
      "execution_count": null,
      "metadata": {
        "id": "Klo8qA-6mVHj"
      },
      "outputs": [],
      "source": [],
      "id": "Klo8qA-6mVHj"
    },
    {
      "cell_type": "markdown",
      "metadata": {
        "id": "d6b9f42b"
      },
      "source": [
        "# Problema 2: Prevendo o salário com dados do censo\n",
        "\n",
        "\n",
        "Vamos usar um dataset do censo dos Estados Unidos disponível no UCI Machine Learning Repository para tentar classificar se uma pessoa recebe mais de $ 50.000,00 por ano. O arquivo census.csv contem o censo de 1994 com um total de 31.978 indivíduos e possui as seguintes variáveis:\n",
        "\n",
        "* age: a idade em anos\n",
        "* workclass: classificação do tipo de trabalho da pessoa (exemplo: trabalha pro governo federal, trabalha pro governo federal, trabalha sem remuneração, etc).\n",
        "* education: o nível de educação (exemplos: high school, 5th-6th grade, PhD, etc)\n",
        "* maritalstatus: o estado civil da pessoa.\n",
        "* occupation: o tipo de trabalho (ex.: administrativo, vendas, etc)\n",
        "* relationship: relacionamento do indivíduo com os membros da sua família\n",
        "* race: raça da pessoa\n",
        "* sex: sexo da pessoa\n",
        "* capitalgain: o ganho de capital de pessoa em 1994 (por vender alguma propriedade)\n",
        "* capitalloss: o prejuízo de capital de uma pessoa\n",
        "* hoursperweek: número de horas trabalhadas por semana\n",
        "* nativecountry: o país de nascimento\n",
        "* over50k: se o indivíduo ganhou mais de $50.000,00 em 1994\n",
        "\n",
        "## Análise\n",
        "\n",
        "Divida o dataset em treino e teste. Crie uma árvore de classificação e use validação cruzada para escolher o melhor parâmetro de ```ccp_alpha```. Compare a árvore com melhor ```ccp_alpha```com uma árvore passando 0 para esse parâmetro. Utilize o plot_tree para visualizar as árvores. Por fim, faça as validation curves das duas árvores e compare os resultados.  "
      ],
      "id": "d6b9f42b"
    },
    {
      "cell_type": "code",
      "execution_count": null,
      "metadata": {
        "colab": {
          "base_uri": "https://localhost:8080/"
        },
        "id": "cf40a603",
        "outputId": "98cdb087-f0f1-4afd-aeba-2bb399fc2727"
      },
      "outputs": [
        {
          "data": {
            "text/html": [
              "\n",
              "  <div id=\"df-338b2dd9-66a6-4c75-8753-febd855f6df4\">\n",
              "    <div class=\"colab-df-container\">\n",
              "      <div>\n",
              "<style scoped>\n",
              "    .dataframe tbody tr th:only-of-type {\n",
              "        vertical-align: middle;\n",
              "    }\n",
              "\n",
              "    .dataframe tbody tr th {\n",
              "        vertical-align: top;\n",
              "    }\n",
              "\n",
              "    .dataframe thead th {\n",
              "        text-align: right;\n",
              "    }\n",
              "</style>\n",
              "<table border=\"1\" class=\"dataframe\">\n",
              "  <thead>\n",
              "    <tr style=\"text-align: right;\">\n",
              "      <th></th>\n",
              "      <th>age</th>\n",
              "      <th>workclass</th>\n",
              "      <th>education</th>\n",
              "      <th>maritalstatus</th>\n",
              "      <th>occupation</th>\n",
              "      <th>relationship</th>\n",
              "      <th>race</th>\n",
              "      <th>sex</th>\n",
              "      <th>capitalgain</th>\n",
              "      <th>capitalloss</th>\n",
              "      <th>hoursperweek</th>\n",
              "      <th>nativecountry</th>\n",
              "      <th>over50k</th>\n",
              "    </tr>\n",
              "  </thead>\n",
              "  <tbody>\n",
              "    <tr>\n",
              "      <th>0</th>\n",
              "      <td>39</td>\n",
              "      <td>State-gov</td>\n",
              "      <td>Bachelors</td>\n",
              "      <td>Never-married</td>\n",
              "      <td>Adm-clerical</td>\n",
              "      <td>Not-in-family</td>\n",
              "      <td>White</td>\n",
              "      <td>Male</td>\n",
              "      <td>2174</td>\n",
              "      <td>0</td>\n",
              "      <td>40</td>\n",
              "      <td>United-States</td>\n",
              "      <td>&lt;=50K</td>\n",
              "    </tr>\n",
              "    <tr>\n",
              "      <th>1</th>\n",
              "      <td>50</td>\n",
              "      <td>Self-emp-not-inc</td>\n",
              "      <td>Bachelors</td>\n",
              "      <td>Married-civ-spouse</td>\n",
              "      <td>Exec-managerial</td>\n",
              "      <td>Husband</td>\n",
              "      <td>White</td>\n",
              "      <td>Male</td>\n",
              "      <td>0</td>\n",
              "      <td>0</td>\n",
              "      <td>13</td>\n",
              "      <td>United-States</td>\n",
              "      <td>&lt;=50K</td>\n",
              "    </tr>\n",
              "    <tr>\n",
              "      <th>2</th>\n",
              "      <td>38</td>\n",
              "      <td>Private</td>\n",
              "      <td>HS-grad</td>\n",
              "      <td>Divorced</td>\n",
              "      <td>Handlers-cleaners</td>\n",
              "      <td>Not-in-family</td>\n",
              "      <td>White</td>\n",
              "      <td>Male</td>\n",
              "      <td>0</td>\n",
              "      <td>0</td>\n",
              "      <td>40</td>\n",
              "      <td>United-States</td>\n",
              "      <td>&lt;=50K</td>\n",
              "    </tr>\n",
              "    <tr>\n",
              "      <th>3</th>\n",
              "      <td>53</td>\n",
              "      <td>Private</td>\n",
              "      <td>11th</td>\n",
              "      <td>Married-civ-spouse</td>\n",
              "      <td>Handlers-cleaners</td>\n",
              "      <td>Husband</td>\n",
              "      <td>Black</td>\n",
              "      <td>Male</td>\n",
              "      <td>0</td>\n",
              "      <td>0</td>\n",
              "      <td>40</td>\n",
              "      <td>United-States</td>\n",
              "      <td>&lt;=50K</td>\n",
              "    </tr>\n",
              "    <tr>\n",
              "      <th>4</th>\n",
              "      <td>28</td>\n",
              "      <td>Private</td>\n",
              "      <td>Bachelors</td>\n",
              "      <td>Married-civ-spouse</td>\n",
              "      <td>Prof-specialty</td>\n",
              "      <td>Wife</td>\n",
              "      <td>Black</td>\n",
              "      <td>Female</td>\n",
              "      <td>0</td>\n",
              "      <td>0</td>\n",
              "      <td>40</td>\n",
              "      <td>Cuba</td>\n",
              "      <td>&lt;=50K</td>\n",
              "    </tr>\n",
              "  </tbody>\n",
              "</table>\n",
              "</div>\n",
              "      <button class=\"colab-df-convert\" onclick=\"convertToInteractive('df-338b2dd9-66a6-4c75-8753-febd855f6df4')\"\n",
              "              title=\"Convert this dataframe to an interactive table.\"\n",
              "              style=\"display:none;\">\n",
              "        \n",
              "  <svg xmlns=\"http://www.w3.org/2000/svg\" height=\"24px\"viewBox=\"0 0 24 24\"\n",
              "       width=\"24px\">\n",
              "    <path d=\"M0 0h24v24H0V0z\" fill=\"none\"/>\n",
              "    <path d=\"M18.56 5.44l.94 2.06.94-2.06 2.06-.94-2.06-.94-.94-2.06-.94 2.06-2.06.94zm-11 1L8.5 8.5l.94-2.06 2.06-.94-2.06-.94L8.5 2.5l-.94 2.06-2.06.94zm10 10l.94 2.06.94-2.06 2.06-.94-2.06-.94-.94-2.06-.94 2.06-2.06.94z\"/><path d=\"M17.41 7.96l-1.37-1.37c-.4-.4-.92-.59-1.43-.59-.52 0-1.04.2-1.43.59L10.3 9.45l-7.72 7.72c-.78.78-.78 2.05 0 2.83L4 21.41c.39.39.9.59 1.41.59.51 0 1.02-.2 1.41-.59l7.78-7.78 2.81-2.81c.8-.78.8-2.07 0-2.86zM5.41 20L4 18.59l7.72-7.72 1.47 1.35L5.41 20z\"/>\n",
              "  </svg>\n",
              "      </button>\n",
              "      \n",
              "  <style>\n",
              "    .colab-df-container {\n",
              "      display:flex;\n",
              "      flex-wrap:wrap;\n",
              "      gap: 12px;\n",
              "    }\n",
              "\n",
              "    .colab-df-convert {\n",
              "      background-color: #E8F0FE;\n",
              "      border: none;\n",
              "      border-radius: 50%;\n",
              "      cursor: pointer;\n",
              "      display: none;\n",
              "      fill: #1967D2;\n",
              "      height: 32px;\n",
              "      padding: 0 0 0 0;\n",
              "      width: 32px;\n",
              "    }\n",
              "\n",
              "    .colab-df-convert:hover {\n",
              "      background-color: #E2EBFA;\n",
              "      box-shadow: 0px 1px 2px rgba(60, 64, 67, 0.3), 0px 1px 3px 1px rgba(60, 64, 67, 0.15);\n",
              "      fill: #174EA6;\n",
              "    }\n",
              "\n",
              "    [theme=dark] .colab-df-convert {\n",
              "      background-color: #3B4455;\n",
              "      fill: #D2E3FC;\n",
              "    }\n",
              "\n",
              "    [theme=dark] .colab-df-convert:hover {\n",
              "      background-color: #434B5C;\n",
              "      box-shadow: 0px 1px 3px 1px rgba(0, 0, 0, 0.15);\n",
              "      filter: drop-shadow(0px 1px 2px rgba(0, 0, 0, 0.3));\n",
              "      fill: #FFFFFF;\n",
              "    }\n",
              "  </style>\n",
              "\n",
              "      <script>\n",
              "        const buttonEl =\n",
              "          document.querySelector('#df-338b2dd9-66a6-4c75-8753-febd855f6df4 button.colab-df-convert');\n",
              "        buttonEl.style.display =\n",
              "          google.colab.kernel.accessAllowed ? 'block' : 'none';\n",
              "\n",
              "        async function convertToInteractive(key) {\n",
              "          const element = document.querySelector('#df-338b2dd9-66a6-4c75-8753-febd855f6df4');\n",
              "          const dataTable =\n",
              "            await google.colab.kernel.invokeFunction('convertToInteractive',\n",
              "                                                     [key], {});\n",
              "          if (!dataTable) return;\n",
              "\n",
              "          const docLinkHtml = 'Like what you see? Visit the ' +\n",
              "            '<a target=\"_blank\" href=https://colab.research.google.com/notebooks/data_table.ipynb>data table notebook</a>'\n",
              "            + ' to learn more about interactive tables.';\n",
              "          element.innerHTML = '';\n",
              "          dataTable['output_type'] = 'display_data';\n",
              "          await google.colab.output.renderOutput(dataTable, element);\n",
              "          const docLink = document.createElement('div');\n",
              "          docLink.innerHTML = docLinkHtml;\n",
              "          element.appendChild(docLink);\n",
              "        }\n",
              "      </script>\n",
              "    </div>\n",
              "  </div>\n",
              "  "
            ],
            "text/plain": [
              "   age          workclass   education        maritalstatus  \\\n",
              "0   39          State-gov   Bachelors        Never-married   \n",
              "1   50   Self-emp-not-inc   Bachelors   Married-civ-spouse   \n",
              "2   38            Private     HS-grad             Divorced   \n",
              "3   53            Private        11th   Married-civ-spouse   \n",
              "4   28            Private   Bachelors   Married-civ-spouse   \n",
              "\n",
              "           occupation    relationship    race      sex  capitalgain  \\\n",
              "0        Adm-clerical   Not-in-family   White     Male         2174   \n",
              "1     Exec-managerial         Husband   White     Male            0   \n",
              "2   Handlers-cleaners   Not-in-family   White     Male            0   \n",
              "3   Handlers-cleaners         Husband   Black     Male            0   \n",
              "4      Prof-specialty            Wife   Black   Female            0   \n",
              "\n",
              "   capitalloss  hoursperweek   nativecountry over50k  \n",
              "0            0            40   United-States   <=50K  \n",
              "1            0            13   United-States   <=50K  \n",
              "2            0            40   United-States   <=50K  \n",
              "3            0            40   United-States   <=50K  \n",
              "4            0            40            Cuba   <=50K  "
            ]
          },
          "execution_count": 28,
          "metadata": {},
          "output_type": "execute_result"
        }
      ],
      "source": [
        "dados2 = pd.read_csv('https://raw.githubusercontent.com/abnr/ml-data/main/census.csv')\n",
        "dados2.head()"
      ],
      "id": "cf40a603"
    },
    {
      "cell_type": "code",
      "execution_count": null,
      "metadata": {
        "colab": {
          "base_uri": "https://localhost:8080/"
        },
        "id": "wbpq7YtZYjVP",
        "outputId": "0a806a82-e78e-4571-9c85-9a42e53362a5"
      },
      "outputs": [
        {
          "data": {
            "text/plain": [
              " <=50K    24283\n",
              " >50K      7695\n",
              "Name: over50k, dtype: int64"
            ]
          },
          "execution_count": 29,
          "metadata": {},
          "output_type": "execute_result"
        }
      ],
      "source": [
        "dados2.over50k.value_counts()"
      ],
      "id": "wbpq7YtZYjVP"
    },
    {
      "cell_type": "code",
      "execution_count": null,
      "metadata": {
        "colab": {
          "base_uri": "https://localhost:8080/"
        },
        "id": "ZHixHkB2aMOM",
        "outputId": "ae36ed7b-6b29-4ded-dd74-6914464e56d5"
      },
      "outputs": [
        {
          "data": {
            "text/plain": [
              "age              0\n",
              "workclass        0\n",
              "education        0\n",
              "maritalstatus    0\n",
              "occupation       0\n",
              "relationship     0\n",
              "race             0\n",
              "sex              0\n",
              "capitalgain      0\n",
              "capitalloss      0\n",
              "hoursperweek     0\n",
              "nativecountry    0\n",
              "over50k          0\n",
              "dtype: int64"
            ]
          },
          "execution_count": 30,
          "metadata": {},
          "output_type": "execute_result"
        }
      ],
      "source": [
        "dados2.isna().sum()"
      ],
      "id": "ZHixHkB2aMOM"
    },
    {
      "cell_type": "code",
      "execution_count": null,
      "metadata": {
        "colab": {
          "base_uri": "https://localhost:8080/",
          "height": 424
        },
        "id": "Bvw4aAEyaMbB",
        "outputId": "4ce088a0-23a2-4b11-ebd3-1198ca24f237"
      },
      "outputs": [
        {
          "data": {
            "text/html": [
              "\n",
              "  <div id=\"df-87492d01-7417-4013-8b7e-d4b44b89254c\">\n",
              "    <div class=\"colab-df-container\">\n",
              "      <div>\n",
              "<style scoped>\n",
              "    .dataframe tbody tr th:only-of-type {\n",
              "        vertical-align: middle;\n",
              "    }\n",
              "\n",
              "    .dataframe tbody tr th {\n",
              "        vertical-align: top;\n",
              "    }\n",
              "\n",
              "    .dataframe thead th {\n",
              "        text-align: right;\n",
              "    }\n",
              "</style>\n",
              "<table border=\"1\" class=\"dataframe\">\n",
              "  <thead>\n",
              "    <tr style=\"text-align: right;\">\n",
              "      <th></th>\n",
              "      <th>age</th>\n",
              "      <th>workclass</th>\n",
              "      <th>education</th>\n",
              "      <th>maritalstatus</th>\n",
              "      <th>occupation</th>\n",
              "      <th>relationship</th>\n",
              "      <th>race</th>\n",
              "      <th>sex</th>\n",
              "      <th>capitalgain</th>\n",
              "      <th>capitalloss</th>\n",
              "      <th>hoursperweek</th>\n",
              "      <th>nativecountry</th>\n",
              "      <th>over50k</th>\n",
              "    </tr>\n",
              "  </thead>\n",
              "  <tbody>\n",
              "    <tr>\n",
              "      <th>0</th>\n",
              "      <td>39</td>\n",
              "      <td>State-gov</td>\n",
              "      <td>Bachelors</td>\n",
              "      <td>Never-married</td>\n",
              "      <td>Adm-clerical</td>\n",
              "      <td>Not-in-family</td>\n",
              "      <td>White</td>\n",
              "      <td>Male</td>\n",
              "      <td>2174</td>\n",
              "      <td>0</td>\n",
              "      <td>40</td>\n",
              "      <td>United-States</td>\n",
              "      <td>0</td>\n",
              "    </tr>\n",
              "    <tr>\n",
              "      <th>1</th>\n",
              "      <td>50</td>\n",
              "      <td>Self-emp-not-inc</td>\n",
              "      <td>Bachelors</td>\n",
              "      <td>Married-civ-spouse</td>\n",
              "      <td>Exec-managerial</td>\n",
              "      <td>Husband</td>\n",
              "      <td>White</td>\n",
              "      <td>Male</td>\n",
              "      <td>0</td>\n",
              "      <td>0</td>\n",
              "      <td>13</td>\n",
              "      <td>United-States</td>\n",
              "      <td>0</td>\n",
              "    </tr>\n",
              "    <tr>\n",
              "      <th>2</th>\n",
              "      <td>38</td>\n",
              "      <td>Private</td>\n",
              "      <td>HS-grad</td>\n",
              "      <td>Divorced</td>\n",
              "      <td>Handlers-cleaners</td>\n",
              "      <td>Not-in-family</td>\n",
              "      <td>White</td>\n",
              "      <td>Male</td>\n",
              "      <td>0</td>\n",
              "      <td>0</td>\n",
              "      <td>40</td>\n",
              "      <td>United-States</td>\n",
              "      <td>0</td>\n",
              "    </tr>\n",
              "    <tr>\n",
              "      <th>3</th>\n",
              "      <td>53</td>\n",
              "      <td>Private</td>\n",
              "      <td>11th</td>\n",
              "      <td>Married-civ-spouse</td>\n",
              "      <td>Handlers-cleaners</td>\n",
              "      <td>Husband</td>\n",
              "      <td>Black</td>\n",
              "      <td>Male</td>\n",
              "      <td>0</td>\n",
              "      <td>0</td>\n",
              "      <td>40</td>\n",
              "      <td>United-States</td>\n",
              "      <td>0</td>\n",
              "    </tr>\n",
              "    <tr>\n",
              "      <th>4</th>\n",
              "      <td>28</td>\n",
              "      <td>Private</td>\n",
              "      <td>Bachelors</td>\n",
              "      <td>Married-civ-spouse</td>\n",
              "      <td>Prof-specialty</td>\n",
              "      <td>Wife</td>\n",
              "      <td>Black</td>\n",
              "      <td>Female</td>\n",
              "      <td>0</td>\n",
              "      <td>0</td>\n",
              "      <td>40</td>\n",
              "      <td>Cuba</td>\n",
              "      <td>0</td>\n",
              "    </tr>\n",
              "    <tr>\n",
              "      <th>...</th>\n",
              "      <td>...</td>\n",
              "      <td>...</td>\n",
              "      <td>...</td>\n",
              "      <td>...</td>\n",
              "      <td>...</td>\n",
              "      <td>...</td>\n",
              "      <td>...</td>\n",
              "      <td>...</td>\n",
              "      <td>...</td>\n",
              "      <td>...</td>\n",
              "      <td>...</td>\n",
              "      <td>...</td>\n",
              "      <td>...</td>\n",
              "    </tr>\n",
              "    <tr>\n",
              "      <th>31973</th>\n",
              "      <td>27</td>\n",
              "      <td>Private</td>\n",
              "      <td>Assoc-acdm</td>\n",
              "      <td>Married-civ-spouse</td>\n",
              "      <td>Tech-support</td>\n",
              "      <td>Wife</td>\n",
              "      <td>White</td>\n",
              "      <td>Female</td>\n",
              "      <td>0</td>\n",
              "      <td>0</td>\n",
              "      <td>38</td>\n",
              "      <td>United-States</td>\n",
              "      <td>0</td>\n",
              "    </tr>\n",
              "    <tr>\n",
              "      <th>31974</th>\n",
              "      <td>40</td>\n",
              "      <td>Private</td>\n",
              "      <td>HS-grad</td>\n",
              "      <td>Married-civ-spouse</td>\n",
              "      <td>Machine-op-inspct</td>\n",
              "      <td>Husband</td>\n",
              "      <td>White</td>\n",
              "      <td>Male</td>\n",
              "      <td>0</td>\n",
              "      <td>0</td>\n",
              "      <td>40</td>\n",
              "      <td>United-States</td>\n",
              "      <td>1</td>\n",
              "    </tr>\n",
              "    <tr>\n",
              "      <th>31975</th>\n",
              "      <td>58</td>\n",
              "      <td>Private</td>\n",
              "      <td>HS-grad</td>\n",
              "      <td>Widowed</td>\n",
              "      <td>Adm-clerical</td>\n",
              "      <td>Unmarried</td>\n",
              "      <td>White</td>\n",
              "      <td>Female</td>\n",
              "      <td>0</td>\n",
              "      <td>0</td>\n",
              "      <td>40</td>\n",
              "      <td>United-States</td>\n",
              "      <td>0</td>\n",
              "    </tr>\n",
              "    <tr>\n",
              "      <th>31976</th>\n",
              "      <td>22</td>\n",
              "      <td>Private</td>\n",
              "      <td>HS-grad</td>\n",
              "      <td>Never-married</td>\n",
              "      <td>Adm-clerical</td>\n",
              "      <td>Own-child</td>\n",
              "      <td>White</td>\n",
              "      <td>Male</td>\n",
              "      <td>0</td>\n",
              "      <td>0</td>\n",
              "      <td>20</td>\n",
              "      <td>United-States</td>\n",
              "      <td>0</td>\n",
              "    </tr>\n",
              "    <tr>\n",
              "      <th>31977</th>\n",
              "      <td>52</td>\n",
              "      <td>Self-emp-inc</td>\n",
              "      <td>HS-grad</td>\n",
              "      <td>Married-civ-spouse</td>\n",
              "      <td>Exec-managerial</td>\n",
              "      <td>Wife</td>\n",
              "      <td>White</td>\n",
              "      <td>Female</td>\n",
              "      <td>15024</td>\n",
              "      <td>0</td>\n",
              "      <td>40</td>\n",
              "      <td>United-States</td>\n",
              "      <td>1</td>\n",
              "    </tr>\n",
              "  </tbody>\n",
              "</table>\n",
              "<p>31978 rows × 13 columns</p>\n",
              "</div>\n",
              "      <button class=\"colab-df-convert\" onclick=\"convertToInteractive('df-87492d01-7417-4013-8b7e-d4b44b89254c')\"\n",
              "              title=\"Convert this dataframe to an interactive table.\"\n",
              "              style=\"display:none;\">\n",
              "        \n",
              "  <svg xmlns=\"http://www.w3.org/2000/svg\" height=\"24px\"viewBox=\"0 0 24 24\"\n",
              "       width=\"24px\">\n",
              "    <path d=\"M0 0h24v24H0V0z\" fill=\"none\"/>\n",
              "    <path d=\"M18.56 5.44l.94 2.06.94-2.06 2.06-.94-2.06-.94-.94-2.06-.94 2.06-2.06.94zm-11 1L8.5 8.5l.94-2.06 2.06-.94-2.06-.94L8.5 2.5l-.94 2.06-2.06.94zm10 10l.94 2.06.94-2.06 2.06-.94-2.06-.94-.94-2.06-.94 2.06-2.06.94z\"/><path d=\"M17.41 7.96l-1.37-1.37c-.4-.4-.92-.59-1.43-.59-.52 0-1.04.2-1.43.59L10.3 9.45l-7.72 7.72c-.78.78-.78 2.05 0 2.83L4 21.41c.39.39.9.59 1.41.59.51 0 1.02-.2 1.41-.59l7.78-7.78 2.81-2.81c.8-.78.8-2.07 0-2.86zM5.41 20L4 18.59l7.72-7.72 1.47 1.35L5.41 20z\"/>\n",
              "  </svg>\n",
              "      </button>\n",
              "      \n",
              "  <style>\n",
              "    .colab-df-container {\n",
              "      display:flex;\n",
              "      flex-wrap:wrap;\n",
              "      gap: 12px;\n",
              "    }\n",
              "\n",
              "    .colab-df-convert {\n",
              "      background-color: #E8F0FE;\n",
              "      border: none;\n",
              "      border-radius: 50%;\n",
              "      cursor: pointer;\n",
              "      display: none;\n",
              "      fill: #1967D2;\n",
              "      height: 32px;\n",
              "      padding: 0 0 0 0;\n",
              "      width: 32px;\n",
              "    }\n",
              "\n",
              "    .colab-df-convert:hover {\n",
              "      background-color: #E2EBFA;\n",
              "      box-shadow: 0px 1px 2px rgba(60, 64, 67, 0.3), 0px 1px 3px 1px rgba(60, 64, 67, 0.15);\n",
              "      fill: #174EA6;\n",
              "    }\n",
              "\n",
              "    [theme=dark] .colab-df-convert {\n",
              "      background-color: #3B4455;\n",
              "      fill: #D2E3FC;\n",
              "    }\n",
              "\n",
              "    [theme=dark] .colab-df-convert:hover {\n",
              "      background-color: #434B5C;\n",
              "      box-shadow: 0px 1px 3px 1px rgba(0, 0, 0, 0.15);\n",
              "      filter: drop-shadow(0px 1px 2px rgba(0, 0, 0, 0.3));\n",
              "      fill: #FFFFFF;\n",
              "    }\n",
              "  </style>\n",
              "\n",
              "      <script>\n",
              "        const buttonEl =\n",
              "          document.querySelector('#df-87492d01-7417-4013-8b7e-d4b44b89254c button.colab-df-convert');\n",
              "        buttonEl.style.display =\n",
              "          google.colab.kernel.accessAllowed ? 'block' : 'none';\n",
              "\n",
              "        async function convertToInteractive(key) {\n",
              "          const element = document.querySelector('#df-87492d01-7417-4013-8b7e-d4b44b89254c');\n",
              "          const dataTable =\n",
              "            await google.colab.kernel.invokeFunction('convertToInteractive',\n",
              "                                                     [key], {});\n",
              "          if (!dataTable) return;\n",
              "\n",
              "          const docLinkHtml = 'Like what you see? Visit the ' +\n",
              "            '<a target=\"_blank\" href=https://colab.research.google.com/notebooks/data_table.ipynb>data table notebook</a>'\n",
              "            + ' to learn more about interactive tables.';\n",
              "          element.innerHTML = '';\n",
              "          dataTable['output_type'] = 'display_data';\n",
              "          await google.colab.output.renderOutput(dataTable, element);\n",
              "          const docLink = document.createElement('div');\n",
              "          docLink.innerHTML = docLinkHtml;\n",
              "          element.appendChild(docLink);\n",
              "        }\n",
              "      </script>\n",
              "    </div>\n",
              "  </div>\n",
              "  "
            ],
            "text/plain": [
              "       age          workclass    education        maritalstatus  \\\n",
              "0       39          State-gov    Bachelors        Never-married   \n",
              "1       50   Self-emp-not-inc    Bachelors   Married-civ-spouse   \n",
              "2       38            Private      HS-grad             Divorced   \n",
              "3       53            Private         11th   Married-civ-spouse   \n",
              "4       28            Private    Bachelors   Married-civ-spouse   \n",
              "...    ...                ...          ...                  ...   \n",
              "31973   27            Private   Assoc-acdm   Married-civ-spouse   \n",
              "31974   40            Private      HS-grad   Married-civ-spouse   \n",
              "31975   58            Private      HS-grad              Widowed   \n",
              "31976   22            Private      HS-grad        Never-married   \n",
              "31977   52       Self-emp-inc      HS-grad   Married-civ-spouse   \n",
              "\n",
              "               occupation    relationship    race      sex  capitalgain  \\\n",
              "0            Adm-clerical   Not-in-family   White     Male         2174   \n",
              "1         Exec-managerial         Husband   White     Male            0   \n",
              "2       Handlers-cleaners   Not-in-family   White     Male            0   \n",
              "3       Handlers-cleaners         Husband   Black     Male            0   \n",
              "4          Prof-specialty            Wife   Black   Female            0   \n",
              "...                   ...             ...     ...      ...          ...   \n",
              "31973        Tech-support            Wife   White   Female            0   \n",
              "31974   Machine-op-inspct         Husband   White     Male            0   \n",
              "31975        Adm-clerical       Unmarried   White   Female            0   \n",
              "31976        Adm-clerical       Own-child   White     Male            0   \n",
              "31977     Exec-managerial            Wife   White   Female        15024   \n",
              "\n",
              "       capitalloss  hoursperweek   nativecountry  over50k  \n",
              "0                0            40   United-States        0  \n",
              "1                0            13   United-States        0  \n",
              "2                0            40   United-States        0  \n",
              "3                0            40   United-States        0  \n",
              "4                0            40            Cuba        0  \n",
              "...            ...           ...             ...      ...  \n",
              "31973            0            38   United-States        0  \n",
              "31974            0            40   United-States        1  \n",
              "31975            0            40   United-States        0  \n",
              "31976            0            20   United-States        0  \n",
              "31977            0            40   United-States        1  \n",
              "\n",
              "[31978 rows x 13 columns]"
            ]
          },
          "execution_count": 31,
          "metadata": {},
          "output_type": "execute_result"
        }
      ],
      "source": [
        "dados2['over50k']=dados2['over50k'].map({' <=50K': 0, ' >50K': 1, ' <=50K.': 0, ' >50K.': 1})\n",
        "dados2"
      ],
      "id": "Bvw4aAEyaMbB"
    },
    {
      "cell_type": "code",
      "execution_count": null,
      "metadata": {
        "colab": {
          "base_uri": "https://localhost:8080/"
        },
        "id": "O-xc8T8baMjZ",
        "outputId": "5e86c697-e3ac-4741-98f5-5a750b4f91d9"
      },
      "outputs": [
        {
          "data": {
            "text/plain": [
              "age               int64\n",
              "workclass        object\n",
              "education        object\n",
              "maritalstatus    object\n",
              "occupation       object\n",
              "relationship     object\n",
              "race             object\n",
              "sex              object\n",
              "capitalgain       int64\n",
              "capitalloss       int64\n",
              "hoursperweek      int64\n",
              "nativecountry    object\n",
              "over50k           int64\n",
              "dtype: object"
            ]
          },
          "execution_count": 32,
          "metadata": {},
          "output_type": "execute_result"
        }
      ],
      "source": [
        "dados2.dtypes"
      ],
      "id": "O-xc8T8baMjZ"
    },
    {
      "cell_type": "code",
      "execution_count": null,
      "metadata": {
        "colab": {
          "base_uri": "https://localhost:8080/",
          "height": 300
        },
        "id": "PjCv_efkaS1A",
        "outputId": "edd19a43-d995-4a46-f0d4-780d5b3ac6c7"
      },
      "outputs": [
        {
          "data": {
            "text/html": [
              "\n",
              "  <div id=\"df-59c8b74a-5e90-439e-a185-fccfa5428ada\">\n",
              "    <div class=\"colab-df-container\">\n",
              "      <div>\n",
              "<style scoped>\n",
              "    .dataframe tbody tr th:only-of-type {\n",
              "        vertical-align: middle;\n",
              "    }\n",
              "\n",
              "    .dataframe tbody tr th {\n",
              "        vertical-align: top;\n",
              "    }\n",
              "\n",
              "    .dataframe thead th {\n",
              "        text-align: right;\n",
              "    }\n",
              "</style>\n",
              "<table border=\"1\" class=\"dataframe\">\n",
              "  <thead>\n",
              "    <tr style=\"text-align: right;\">\n",
              "      <th></th>\n",
              "      <th>age</th>\n",
              "      <th>capitalgain</th>\n",
              "      <th>capitalloss</th>\n",
              "      <th>hoursperweek</th>\n",
              "      <th>over50k</th>\n",
              "    </tr>\n",
              "  </thead>\n",
              "  <tbody>\n",
              "    <tr>\n",
              "      <th>count</th>\n",
              "      <td>31978.000000</td>\n",
              "      <td>31978.000000</td>\n",
              "      <td>31978.000000</td>\n",
              "      <td>31978.000000</td>\n",
              "      <td>31978.000000</td>\n",
              "    </tr>\n",
              "    <tr>\n",
              "      <th>mean</th>\n",
              "      <td>38.579023</td>\n",
              "      <td>1064.360623</td>\n",
              "      <td>86.739352</td>\n",
              "      <td>40.417850</td>\n",
              "      <td>0.240634</td>\n",
              "    </tr>\n",
              "    <tr>\n",
              "      <th>std</th>\n",
              "      <td>13.662085</td>\n",
              "      <td>7298.596271</td>\n",
              "      <td>401.594301</td>\n",
              "      <td>12.345285</td>\n",
              "      <td>0.427475</td>\n",
              "    </tr>\n",
              "    <tr>\n",
              "      <th>min</th>\n",
              "      <td>17.000000</td>\n",
              "      <td>0.000000</td>\n",
              "      <td>0.000000</td>\n",
              "      <td>1.000000</td>\n",
              "      <td>0.000000</td>\n",
              "    </tr>\n",
              "    <tr>\n",
              "      <th>25%</th>\n",
              "      <td>28.000000</td>\n",
              "      <td>0.000000</td>\n",
              "      <td>0.000000</td>\n",
              "      <td>40.000000</td>\n",
              "      <td>0.000000</td>\n",
              "    </tr>\n",
              "    <tr>\n",
              "      <th>50%</th>\n",
              "      <td>37.000000</td>\n",
              "      <td>0.000000</td>\n",
              "      <td>0.000000</td>\n",
              "      <td>40.000000</td>\n",
              "      <td>0.000000</td>\n",
              "    </tr>\n",
              "    <tr>\n",
              "      <th>75%</th>\n",
              "      <td>48.000000</td>\n",
              "      <td>0.000000</td>\n",
              "      <td>0.000000</td>\n",
              "      <td>45.000000</td>\n",
              "      <td>0.000000</td>\n",
              "    </tr>\n",
              "    <tr>\n",
              "      <th>max</th>\n",
              "      <td>90.000000</td>\n",
              "      <td>99999.000000</td>\n",
              "      <td>4356.000000</td>\n",
              "      <td>99.000000</td>\n",
              "      <td>1.000000</td>\n",
              "    </tr>\n",
              "  </tbody>\n",
              "</table>\n",
              "</div>\n",
              "      <button class=\"colab-df-convert\" onclick=\"convertToInteractive('df-59c8b74a-5e90-439e-a185-fccfa5428ada')\"\n",
              "              title=\"Convert this dataframe to an interactive table.\"\n",
              "              style=\"display:none;\">\n",
              "        \n",
              "  <svg xmlns=\"http://www.w3.org/2000/svg\" height=\"24px\"viewBox=\"0 0 24 24\"\n",
              "       width=\"24px\">\n",
              "    <path d=\"M0 0h24v24H0V0z\" fill=\"none\"/>\n",
              "    <path d=\"M18.56 5.44l.94 2.06.94-2.06 2.06-.94-2.06-.94-.94-2.06-.94 2.06-2.06.94zm-11 1L8.5 8.5l.94-2.06 2.06-.94-2.06-.94L8.5 2.5l-.94 2.06-2.06.94zm10 10l.94 2.06.94-2.06 2.06-.94-2.06-.94-.94-2.06-.94 2.06-2.06.94z\"/><path d=\"M17.41 7.96l-1.37-1.37c-.4-.4-.92-.59-1.43-.59-.52 0-1.04.2-1.43.59L10.3 9.45l-7.72 7.72c-.78.78-.78 2.05 0 2.83L4 21.41c.39.39.9.59 1.41.59.51 0 1.02-.2 1.41-.59l7.78-7.78 2.81-2.81c.8-.78.8-2.07 0-2.86zM5.41 20L4 18.59l7.72-7.72 1.47 1.35L5.41 20z\"/>\n",
              "  </svg>\n",
              "      </button>\n",
              "      \n",
              "  <style>\n",
              "    .colab-df-container {\n",
              "      display:flex;\n",
              "      flex-wrap:wrap;\n",
              "      gap: 12px;\n",
              "    }\n",
              "\n",
              "    .colab-df-convert {\n",
              "      background-color: #E8F0FE;\n",
              "      border: none;\n",
              "      border-radius: 50%;\n",
              "      cursor: pointer;\n",
              "      display: none;\n",
              "      fill: #1967D2;\n",
              "      height: 32px;\n",
              "      padding: 0 0 0 0;\n",
              "      width: 32px;\n",
              "    }\n",
              "\n",
              "    .colab-df-convert:hover {\n",
              "      background-color: #E2EBFA;\n",
              "      box-shadow: 0px 1px 2px rgba(60, 64, 67, 0.3), 0px 1px 3px 1px rgba(60, 64, 67, 0.15);\n",
              "      fill: #174EA6;\n",
              "    }\n",
              "\n",
              "    [theme=dark] .colab-df-convert {\n",
              "      background-color: #3B4455;\n",
              "      fill: #D2E3FC;\n",
              "    }\n",
              "\n",
              "    [theme=dark] .colab-df-convert:hover {\n",
              "      background-color: #434B5C;\n",
              "      box-shadow: 0px 1px 3px 1px rgba(0, 0, 0, 0.15);\n",
              "      filter: drop-shadow(0px 1px 2px rgba(0, 0, 0, 0.3));\n",
              "      fill: #FFFFFF;\n",
              "    }\n",
              "  </style>\n",
              "\n",
              "      <script>\n",
              "        const buttonEl =\n",
              "          document.querySelector('#df-59c8b74a-5e90-439e-a185-fccfa5428ada button.colab-df-convert');\n",
              "        buttonEl.style.display =\n",
              "          google.colab.kernel.accessAllowed ? 'block' : 'none';\n",
              "\n",
              "        async function convertToInteractive(key) {\n",
              "          const element = document.querySelector('#df-59c8b74a-5e90-439e-a185-fccfa5428ada');\n",
              "          const dataTable =\n",
              "            await google.colab.kernel.invokeFunction('convertToInteractive',\n",
              "                                                     [key], {});\n",
              "          if (!dataTable) return;\n",
              "\n",
              "          const docLinkHtml = 'Like what you see? Visit the ' +\n",
              "            '<a target=\"_blank\" href=https://colab.research.google.com/notebooks/data_table.ipynb>data table notebook</a>'\n",
              "            + ' to learn more about interactive tables.';\n",
              "          element.innerHTML = '';\n",
              "          dataTable['output_type'] = 'display_data';\n",
              "          await google.colab.output.renderOutput(dataTable, element);\n",
              "          const docLink = document.createElement('div');\n",
              "          docLink.innerHTML = docLinkHtml;\n",
              "          element.appendChild(docLink);\n",
              "        }\n",
              "      </script>\n",
              "    </div>\n",
              "  </div>\n",
              "  "
            ],
            "text/plain": [
              "                age   capitalgain   capitalloss  hoursperweek       over50k\n",
              "count  31978.000000  31978.000000  31978.000000  31978.000000  31978.000000\n",
              "mean      38.579023   1064.360623     86.739352     40.417850      0.240634\n",
              "std       13.662085   7298.596271    401.594301     12.345285      0.427475\n",
              "min       17.000000      0.000000      0.000000      1.000000      0.000000\n",
              "25%       28.000000      0.000000      0.000000     40.000000      0.000000\n",
              "50%       37.000000      0.000000      0.000000     40.000000      0.000000\n",
              "75%       48.000000      0.000000      0.000000     45.000000      0.000000\n",
              "max       90.000000  99999.000000   4356.000000     99.000000      1.000000"
            ]
          },
          "execution_count": 33,
          "metadata": {},
          "output_type": "execute_result"
        }
      ],
      "source": [
        "dados2.describe()"
      ],
      "id": "PjCv_efkaS1A"
    },
    {
      "cell_type": "code",
      "execution_count": null,
      "metadata": {
        "colab": {
          "base_uri": "https://localhost:8080/",
          "height": 351
        },
        "id": "1pTP_LajaS5o",
        "outputId": "eb87f97c-7e77-40cf-e754-1128b7d6aa73"
      },
      "outputs": [
        {
          "name": "stderr",
          "output_type": "stream",
          "text": [
            "/usr/local/lib/python3.7/dist-packages/seaborn/_decorators.py:43: FutureWarning: Pass the following variable as a keyword arg: x. From version 0.12, the only valid positional argument will be `data`, and passing other arguments without an explicit keyword will result in an error or misinterpretation.\n",
            "  FutureWarning\n"
          ]
        },
        {
          "data": {
            "text/plain": [
              "<matplotlib.axes._subplots.AxesSubplot at 0x7f1fe7ec9d10>"
            ]
          },
          "execution_count": 34,
          "metadata": {},
          "output_type": "execute_result"
        },
        {
          "data": {
            "image/png": "[encoded data removed]",
            "text/plain": [
              "<Figure size 432x288 with 1 Axes>"
            ]
          },
          "metadata": {},
          "output_type": "display_data"
        }
      ],
      "source": [
        "sns.countplot(dados2['sex'], hue=dados2['over50k'])"
      ],
      "id": "1pTP_LajaS5o"
    },
    {
      "cell_type": "code",
      "execution_count": null,
      "metadata": {
        "colab": {
          "base_uri": "https://localhost:8080/",
          "height": 296
        },
        "id": "tc4RIQIdaTCD",
        "outputId": "9c528c0d-79e3-4a5f-fbaf-1fed20c4d1a7"
      },
      "outputs": [
        {
          "data": {
            "text/plain": [
              "<matplotlib.axes._subplots.AxesSubplot at 0x7f1fe7bc7d10>"
            ]
          },
          "execution_count": 35,
          "metadata": {},
          "output_type": "execute_result"
        },
        {
          "data": {
            "image/png": "[encoded data removed]",
            "text/plain": [
              "<Figure size 432x288 with 1 Axes>"
            ]
          },
          "metadata": {},
          "output_type": "display_data"
        }
      ],
      "source": [
        "sns.countplot(x=dados2['race'], hue=dados2['over50k'])"
      ],
      "id": "tc4RIQIdaTCD"
    },
    {
      "cell_type": "code",
      "execution_count": null,
      "metadata": {
        "colab": {
          "base_uri": "https://localhost:8080/"
        },
        "id": "6yW3f-daacc6",
        "outputId": "942e654c-465b-494d-b7c9-0d63aee5c5a5"
      },
      "outputs": [
        {
          "data": {
            "text/plain": [
              "<matplotlib.axes._subplots.AxesSubplot at 0x7f1fe85c7f90>"
            ]
          },
          "execution_count": 36,
          "metadata": {},
          "output_type": "execute_result"
        },
        {
          "data": {
            "image/png": "[encoded data removed]",
            "text/plain": [
              "<Figure size 360x360 with 2 Axes>"
            ]
          },
          "metadata": {},
          "output_type": "display_data"
        }
      ],
      "source": [
        "corr=dados2.corr()\n",
        "plt.figure(figsize=(5,5))\n",
        "sns.heatmap(corr,annot=True)"
      ],
      "id": "6yW3f-daacc6"
    },
    {
      "cell_type": "code",
      "execution_count": null,
      "metadata": {
        "colab": {
          "base_uri": "https://localhost:8080/"
        },
        "id": "Hmt8l0qFackN",
        "outputId": "a366ba32-ddca-4dd5-d44b-d8dbc730e531"
      },
      "outputs": [
        {
          "data": {
            "text/plain": [
              "array([[<matplotlib.axes._subplots.AxesSubplot object at 0x7f1fe7de2350>,\n",
              "        <matplotlib.axes._subplots.AxesSubplot object at 0x7f1fe7a66f10>],\n",
              "       [<matplotlib.axes._subplots.AxesSubplot object at 0x7f1fe79eb510>,\n",
              "        <matplotlib.axes._subplots.AxesSubplot object at 0x7f1fe7bddb10>],\n",
              "       [<matplotlib.axes._subplots.AxesSubplot object at 0x7f1fe7d25150>,\n",
              "        <matplotlib.axes._subplots.AxesSubplot object at 0x7f1fe7e1b750>]],\n",
              "      dtype=object)"
            ]
          },
          "execution_count": 37,
          "metadata": {},
          "output_type": "execute_result"
        },
        {
          "data": {
            "image/png": "[encoded data removed]",
            "text/plain": [
              "<Figure size 432x288 with 6 Axes>"
            ]
          },
          "metadata": {},
          "output_type": "display_data"
        }
      ],
      "source": [
        "dados2.hist()"
      ],
      "id": "Hmt8l0qFackN"
    },
    {
      "cell_type": "code",
      "execution_count": null,
      "metadata": {
        "id": "Lfso9ehtaMm8"
      },
      "outputs": [],
      "source": [
        "df_train, df_test = train_test_split(dados2,\n",
        "                                     random_state=123,\n",
        "                                     test_size=0.2,\n",
        "                                     stratify=dados2['over50k'])"
      ],
      "id": "Lfso9ehtaMm8"
    },
    {
      "cell_type": "code",
      "execution_count": null,
      "metadata": {
        "id": "QpMVEPqdaMqD"
      },
      "outputs": [],
      "source": [
        "X_train, y_train = df_train.drop('over50k', axis=1), df_train['over50k']\n",
        "X_test, y_test = df_test.drop('over50k', axis=1), df_test['over50k']"
      ],
      "id": "QpMVEPqdaMqD"
    },
    {
      "cell_type": "code",
      "execution_count": null,
      "metadata": {
        "id": "ywFj6dlea0eJ"
      },
      "outputs": [],
      "source": [
        "# Divisão dos dados\n",
        "cat_columns_income = X_train.select_dtypes(include=['object']).columns.tolist()\n",
        "num_columns_income = X_train.select_dtypes(exclude=['object']).columns.tolist()"
      ],
      "id": "ywFj6dlea0eJ"
    },
    {
      "cell_type": "code",
      "execution_count": null,
      "metadata": {
        "colab": {
          "base_uri": "https://localhost:8080/"
        },
        "id": "wP9fZx7Pa0n_",
        "outputId": "1fdab0fa-b121-4c95-ad52-af98ba88fca8"
      },
      "outputs": [
        {
          "data": {
            "text/plain": [
              "['workclass',\n",
              " 'education',\n",
              " 'maritalstatus',\n",
              " 'occupation',\n",
              " 'relationship',\n",
              " 'race',\n",
              " 'sex',\n",
              " 'nativecountry']"
            ]
          },
          "execution_count": 41,
          "metadata": {},
          "output_type": "execute_result"
        }
      ],
      "source": [
        "cat_columns_income"
      ],
      "id": "wP9fZx7Pa0n_"
    },
    {
      "cell_type": "code",
      "execution_count": null,
      "metadata": {
        "colab": {
          "base_uri": "https://localhost:8080/"
        },
        "id": "LS4xFgOka0s6",
        "outputId": "833f6268-1129-4109-9dd4-67394b1ed528"
      },
      "outputs": [
        {
          "data": {
            "text/plain": [
              "['age', 'capitalgain', 'capitalloss', 'hoursperweek']"
            ]
          },
          "execution_count": 42,
          "metadata": {},
          "output_type": "execute_result"
        }
      ],
      "source": [
        "num_columns_income"
      ],
      "id": "LS4xFgOka0s6"
    },
    {
      "cell_type": "code",
      "execution_count": null,
      "metadata": {
        "id": "dQ0fLaz1a0wa"
      },
      "outputs": [],
      "source": [
        "# Pipeline\n",
        "pipe_cat_columns_income = ('one_hot_encoder',\n",
        "                          OneHotEncoder(handle_unknown='ignore'),\n",
        "                          cat_columns_income)\n",
        "\n",
        "pipe_num_columns_income = ('min_max_scaler',\n",
        "                          MinMaxScaler(),\n",
        "                          num_columns_income)"
      ],
      "id": "dQ0fLaz1a0wa"
    },
    {
      "cell_type": "code",
      "execution_count": null,
      "metadata": {
        "id": "sCzr9-hPa9na"
      },
      "outputs": [],
      "source": [
        "transformers = [pipe_num_columns_income, pipe_cat_columns_income]\n",
        "pre_processor = ColumnTransformer(transformers)"
      ],
      "id": "sCzr9-hPa9na"
    },
    {
      "cell_type": "code",
      "execution_count": null,
      "metadata": {
        "colab": {
          "base_uri": "https://localhost:8080/"
        },
        "id": "5hwqXhNMa9qi",
        "outputId": "8f36f360-312b-4e91-a739-3017ab0cec5f"
      },
      "outputs": [
        {
          "data": {
            "text/plain": [
              "Pipeline(steps=[('pre_processor',\n",
              "                 ColumnTransformer(transformers=[('min_max_scaler',\n",
              "                                                  MinMaxScaler(),\n",
              "                                                  ['age', 'capitalgain',\n",
              "                                                   'capitalloss',\n",
              "                                                   'hoursperweek']),\n",
              "                                                 ('one_hot_encoder',\n",
              "                                                  OneHotEncoder(handle_unknown='ignore'),\n",
              "                                                  ['workclass', 'education',\n",
              "                                                   'maritalstatus',\n",
              "                                                   'occupation', 'relationship',\n",
              "                                                   'race', 'sex',\n",
              "                                                   'nativecountry'])])),\n",
              "                ('model',\n",
              "                 DecisionTreeClassifier(max_depth=5, random_state=123))])"
            ]
          },
          "execution_count": 45,
          "metadata": {},
          "output_type": "execute_result"
        }
      ],
      "source": [
        "model_dt = Pipeline(steps=[('pre_processor', pre_processor),\n",
        "                            ('model', DecisionTreeClassifier(max_depth=5,random_state=123))])\n",
        "model_dt.fit(X_train, y_train)"
      ],
      "id": "5hwqXhNMa9qi"
    },
    {
      "cell_type": "code",
      "execution_count": null,
      "metadata": {
        "colab": {
          "base_uri": "https://localhost:8080/"
        },
        "id": "PsEcydDya9t8",
        "outputId": "a0739930-8bda-4769-8a7b-4051cfd46953"
      },
      "outputs": [
        {
          "name": "stdout",
          "output_type": "stream",
          "text": [
            "DecisionTreeClassifier \n",
            "\n",
            "log_loss treino: 0.3402899850809717\n",
            "log_loss teste: 0.35228889551177334\n",
            "----------------------------------------------------------------------------------------------------\n"
          ]
        }
      ],
      "source": [
        "classifiers = [model_dt]\n",
        "\n",
        "for classifier in classifiers:\n",
        "    classifier.fit(X_train, y_train)\n",
        "    print(type(classifier['model']).__name__,'\\n')\n",
        "    print(f'log_loss treino: {log_loss(y_train, classifier.predict_proba(X_train)[:,1])}')\n",
        "    print(f'log_loss teste: {log_loss(y_test, classifier.predict_proba(X_test)[:,1])}')\n",
        "    print(100*'-')"
      ],
      "id": "PsEcydDya9t8"
    },
    {
      "cell_type": "code",
      "execution_count": null,
      "metadata": {
        "id": "Yoxx58JbaMwN"
      },
      "outputs": [],
      "source": [
        "skf = StratifiedKFold(n_splits=10, shuffle=True, random_state=123)"
      ],
      "id": "Yoxx58JbaMwN"
    },
    {
      "cell_type": "code",
      "execution_count": null,
      "metadata": {
        "colab": {
          "base_uri": "https://localhost:8080/"
        },
        "id": "mMJ9xIESbKKD",
        "outputId": "6d8786e9-5f9b-4188-cf46-8ce6c5d4b0a8"
      },
      "outputs": [
        {
          "data": {
            "text/plain": [
              "array([0.00000000e+00, 2.78279366e-06, 5.64221858e-05, 7.47851109e-05,\n",
              "       7.66201259e-05, 9.56062645e-05, 9.76452094e-05, 1.68194793e-04,\n",
              "       2.18524121e-04, 4.86347525e-04, 6.11432802e-04, 7.84677952e-04,\n",
              "       8.22489067e-04, 9.11465832e-04, 1.26835385e-03, 2.01691834e-03,\n",
              "       2.46382222e-03, 6.97583301e-03, 8.31761246e-03, 1.02945664e-02,\n",
              "       1.56599368e-02, 2.36819265e-02, 7.26359016e-02])"
            ]
          },
          "execution_count": 48,
          "metadata": {},
          "output_type": "execute_result"
        }
      ],
      "source": [
        "#https://www.analyticsvidhya.com/blog/2020/10/cost-complexity-pruning-decision-trees/\n",
        "tree = model_dt\n",
        "X_preproc = tree[:-1].transform(X_train)\n",
        "path = tree.steps[-1][1].cost_complexity_pruning_path(X_preproc, y_train)\n",
        "alphas = path['ccp_alphas']\n",
        "alphas"
      ],
      "id": "mMJ9xIESbKKD"
    },
    {
      "cell_type": "code",
      "execution_count": null,
      "metadata": {
        "id": "JcnDeNO7bKWh"
      },
      "outputs": [],
      "source": [
        "param_grid = dict(model__ccp_alpha=alphas)"
      ],
      "id": "JcnDeNO7bKWh"
    },
    {
      "cell_type": "code",
      "execution_count": null,
      "metadata": {
        "colab": {
          "base_uri": "https://localhost:8080/"
        },
        "id": "OfyScJW4bKfi",
        "outputId": "6cf5f1f8-0921-4629-dcd5-800e28e0b565"
      },
      "outputs": [
        {
          "name": "stderr",
          "output_type": "stream",
          "text": [
            "/usr/local/lib/python3.7/dist-packages/sklearn/model_selection/_search.py:296: UserWarning: The total space of parameters 23 is smaller than n_iter=50. Running 23 iterations. For exhaustive searches, use GridSearchCV.\n",
            "  UserWarning,\n"
          ]
        },
        {
          "name": "stdout",
          "output_type": "stream",
          "text": [
            "Fitting 10 folds for each of 23 candidates, totalling 230 fits\n"
          ]
        },
        {
          "data": {
            "text/plain": [
              "RandomizedSearchCV(cv=StratifiedKFold(n_splits=10, random_state=123, shuffle=True),\n",
              "                   estimator=Pipeline(steps=[('pre_processor',\n",
              "                                              ColumnTransformer(transformers=[('min_max_scaler',\n",
              "                                                                               MinMaxScaler(),\n",
              "                                                                               ['age',\n",
              "                                                                                'capitalgain',\n",
              "                                                                                'capitalloss',\n",
              "                                                                                'hoursperweek']),\n",
              "                                                                              ('one_hot_encoder',\n",
              "                                                                               OneHotEncoder(handle_unknown='ignore'),\n",
              "                                                                               ['workclass',\n",
              "                                                                                'education',\n",
              "                                                                                'maritalstatus',\n",
              "                                                                                'occupatio...\n",
              "                   param_distributions={'model__ccp_alpha': array([0.00000000e+00, 2.78279366e-06, 5.64221858e-05, 7.47851109e-05,\n",
              "       7.66201259e-05, 9.56062645e-05, 9.76452094e-05, 1.68194793e-04,\n",
              "       2.18524121e-04, 4.86347525e-04, 6.11432802e-04, 7.84677952e-04,\n",
              "       8.22489067e-04, 9.11465832e-04, 1.26835385e-03, 2.01691834e-03,\n",
              "       2.46382222e-03, 6.97583301e-03, 8.31761246e-03, 1.02945664e-02,\n",
              "       1.56599368e-02, 2.36819265e-02, 7.26359016e-02])},\n",
              "                   scoring='f1', verbose=1)"
            ]
          },
          "execution_count": 50,
          "metadata": {},
          "output_type": "execute_result"
        }
      ],
      "source": [
        "grid_pipe = RandomizedSearchCV(model_dt, param_grid, n_iter=50, cv=skf, scoring='f1', verbose=1)\n",
        "grid_pipe.fit(X_train, y_train)"
      ],
      "id": "OfyScJW4bKfi"
    },
    {
      "cell_type": "code",
      "execution_count": null,
      "metadata": {
        "colab": {
          "base_uri": "https://localhost:8080/"
        },
        "id": "dbP7GR3ZbKn_",
        "outputId": "bb889237-adfe-40dc-a080-49e84e18138e"
      },
      "outputs": [
        {
          "data": {
            "text/plain": [
              "nan"
            ]
          },
          "execution_count": 51,
          "metadata": {},
          "output_type": "execute_result"
        }
      ],
      "source": [
        "grid_pipe.error_score"
      ],
      "id": "dbP7GR3ZbKn_"
    },
    {
      "cell_type": "code",
      "execution_count": null,
      "metadata": {
        "colab": {
          "base_uri": "https://localhost:8080/"
        },
        "id": "gwIT75LGbkhm",
        "outputId": "8302b6f6-fb2e-4bb0-cceb-aaede80250da"
      },
      "outputs": [
        {
          "data": {
            "text/plain": [
              "(Pipeline(steps=[('pre_processor',\n",
              "                  ColumnTransformer(transformers=[('min_max_scaler',\n",
              "                                                   MinMaxScaler(),\n",
              "                                                   ['age', 'capitalgain',\n",
              "                                                    'capitalloss',\n",
              "                                                    'hoursperweek']),\n",
              "                                                  ('one_hot_encoder',\n",
              "                                                   OneHotEncoder(handle_unknown='ignore'),\n",
              "                                                   ['workclass', 'education',\n",
              "                                                    'maritalstatus',\n",
              "                                                    'occupation', 'relationship',\n",
              "                                                    'race', 'sex',\n",
              "                                                    'nativecountry'])])),\n",
              "                 ('model',\n",
              "                  DecisionTreeClassifier(ccp_alpha=0.0009114658322008466,\n",
              "                                         max_depth=5, random_state=123))]),\n",
              " 0.6200907925803275,\n",
              " {'model__ccp_alpha': 0.0009114658322008466})"
            ]
          },
          "execution_count": 52,
          "metadata": {},
          "output_type": "execute_result"
        }
      ],
      "source": [
        "grid_pipe.best_estimator_, grid_pipe.best_score_, grid_pipe.best_params_"
      ],
      "id": "gwIT75LGbkhm"
    },
    {
      "cell_type": "code",
      "execution_count": null,
      "metadata": {
        "colab": {
          "base_uri": "https://localhost:8080/",
          "height": 1000
        },
        "id": "R--26OHVbk06",
        "outputId": "05cbdfcc-d40b-410d-ba8e-b5326604cd40"
      },
      "outputs": [
        {
          "data": {
            "text/plain": [
              "[Text(0.5738636363636364, 0.9166666666666666, 'X[31] <= 0.5\\ngini = 0.365\\nsamples = 25582\\nvalue = [19426, 6156]'),\n",
              " Text(0.3068181818181818, 0.75, 'X[1] <= 0.071\\ngini = 0.122\\nsamples = 13836\\nvalue = [12936, 900]'),\n",
              " Text(0.18181818181818182, 0.5833333333333334, 'X[3] <= 0.434\\ngini = 0.093\\nsamples = 13590\\nvalue = [12926, 664]'),\n",
              " Text(0.09090909090909091, 0.4166666666666667, 'X[2] <= 0.509\\ngini = 0.053\\nsamples = 10953\\nvalue = [10652, 301]'),\n",
              " Text(0.045454545454545456, 0.25, 'X[23] <= 0.5\\ngini = 0.05\\nsamples = 10912\\nvalue = [10630, 282]'),\n",
              " Text(0.022727272727272728, 0.08333333333333333, 'gini = 0.048\\nsamples = 10871\\nvalue = [10606, 265]'),\n",
              " Text(0.06818181818181818, 0.08333333333333333, 'gini = 0.485\\nsamples = 41\\nvalue = [24, 17]'),\n",
              " Text(0.13636363636363635, 0.25, 'X[2] <= 0.855\\ngini = 0.497\\nsamples = 41\\nvalue = [22, 19]'),\n",
              " Text(0.11363636363636363, 0.08333333333333333, 'gini = 0.498\\nsamples = 36\\nvalue = [17, 19]'),\n",
              " Text(0.1590909090909091, 0.08333333333333333, 'gini = 0.0\\nsamples = 5\\nvalue = [5, 0]'),\n",
              " Text(0.2727272727272727, 0.4166666666666667, 'X[0] <= 0.144\\ngini = 0.237\\nsamples = 2637\\nvalue = [2274, 363]'),\n",
              " Text(0.22727272727272727, 0.25, 'X[95] <= 0.5\\ngini = 0.044\\nsamples = 661\\nvalue = [646, 15]'),\n",
              " Text(0.20454545454545456, 0.08333333333333333, 'gini = 0.042\\nsamples = 660\\nvalue = [646, 14]'),\n",
              " Text(0.25, 0.08333333333333333, 'gini = 0.0\\nsamples = 1\\nvalue = [0, 1]'),\n",
              " Text(0.3181818181818182, 0.25, 'X[2] <= 0.549\\ngini = 0.29\\nsamples = 1976\\nvalue = [1628, 348]'),\n",
              " Text(0.29545454545454547, 0.08333333333333333, 'gini = 0.282\\nsamples = 1959\\nvalue = [1627, 332]'),\n",
              " Text(0.3409090909090909, 0.08333333333333333, 'gini = 0.111\\nsamples = 17\\nvalue = [1, 16]'),\n",
              " Text(0.4318181818181818, 0.5833333333333334, 'X[0] <= 0.048\\ngini = 0.078\\nsamples = 246\\nvalue = [10, 236]'),\n",
              " Text(0.4090909090909091, 0.4166666666666667, 'gini = 0.0\\nsamples = 3\\nvalue = [3, 0]'),\n",
              " Text(0.45454545454545453, 0.4166666666666667, 'X[1] <= 0.083\\ngini = 0.056\\nsamples = 243\\nvalue = [7, 236]'),\n",
              " Text(0.4090909090909091, 0.25, 'X[8] <= 0.5\\ngini = 0.469\\nsamples = 16\\nvalue = [6, 10]'),\n",
              " Text(0.38636363636363635, 0.08333333333333333, 'gini = 0.0\\nsamples = 8\\nvalue = [0, 8]'),\n",
              " Text(0.4318181818181818, 0.08333333333333333, 'gini = 0.375\\nsamples = 8\\nvalue = [6, 2]'),\n",
              " Text(0.5, 0.25, 'X[1] <= 0.31\\ngini = 0.009\\nsamples = 227\\nvalue = [1, 226]'),\n",
              " Text(0.4772727272727273, 0.08333333333333333, 'gini = 0.0\\nsamples = 202\\nvalue = [0, 202]'),\n",
              " Text(0.5227272727272727, 0.08333333333333333, 'gini = 0.077\\nsamples = 25\\nvalue = [1, 24]'),\n",
              " Text(0.8409090909090909, 0.75, 'X[1] <= 0.051\\ngini = 0.494\\nsamples = 11746\\nvalue = [6490, 5256]'),\n",
              " Text(0.7272727272727273, 0.5833333333333334, 'X[2] <= 0.409\\ngini = 0.48\\nsamples = 10798\\nvalue = [6480, 4318]'),\n",
              " Text(0.6363636363636364, 0.4166666666666667, 'X[22] <= 0.5\\ngini = 0.468\\nsamples = 10190\\nvalue = [6390, 3800]'),\n",
              " Text(0.5909090909090909, 0.25, 'X[46] <= 0.5\\ngini = 0.44\\nsamples = 8486\\nvalue = [5710, 2776]'),\n",
              " Text(0.5681818181818182, 0.08333333333333333, 'gini = 0.415\\nsamples = 7671\\nvalue = [5418, 2253]'),\n",
              " Text(0.6136363636363636, 0.08333333333333333, 'gini = 0.46\\nsamples = 815\\nvalue = [292, 523]'),\n",
              " Text(0.6818181818181818, 0.25, 'X[40] <= 0.5\\ngini = 0.48\\nsamples = 1704\\nvalue = [680, 1024]'),\n",
              " Text(0.6590909090909091, 0.08333333333333333, 'gini = 0.494\\nsamples = 1236\\nvalue = [553, 683]'),\n",
              " Text(0.7045454545454546, 0.08333333333333333, 'gini = 0.395\\nsamples = 468\\nvalue = [127, 341]'),\n",
              " Text(0.8181818181818182, 0.4166666666666667, 'X[2] <= 0.457\\ngini = 0.252\\nsamples = 608\\nvalue = [90, 518]'),\n",
              " Text(0.7727272727272727, 0.25, 'X[0] <= 0.089\\ngini = 0.046\\nsamples = 468\\nvalue = [11, 457]'),\n",
              " Text(0.75, 0.08333333333333333, 'gini = 0.444\\nsamples = 3\\nvalue = [2, 1]'),\n",
              " Text(0.7954545454545454, 0.08333333333333333, 'gini = 0.038\\nsamples = 465\\nvalue = [9, 456]'),\n",
              " Text(0.8636363636363636, 0.25, 'X[2] <= 0.543\\ngini = 0.492\\nsamples = 140\\nvalue = [79, 61]'),\n",
              " Text(0.8409090909090909, 0.08333333333333333, 'gini = 0.195\\nsamples = 73\\nvalue = [65, 8]'),\n",
              " Text(0.8863636363636364, 0.08333333333333333, 'gini = 0.331\\nsamples = 67\\nvalue = [14, 53]'),\n",
              " Text(0.9545454545454546, 0.5833333333333334, 'X[26] <= 0.5\\ngini = 0.021\\nsamples = 948\\nvalue = [10, 938]'),\n",
              " Text(0.9318181818181818, 0.4166666666666667, 'X[0] <= 0.596\\ngini = 0.019\\nsamples = 947\\nvalue = [9, 938]'),\n",
              " Text(0.9090909090909091, 0.25, 'gini = 0.0\\nsamples = 825\\nvalue = [0, 825]'),\n",
              " Text(0.9545454545454546, 0.25, 'X[44] <= 0.5\\ngini = 0.137\\nsamples = 122\\nvalue = [9, 113]'),\n",
              " Text(0.9318181818181818, 0.08333333333333333, 'gini = 0.123\\nsamples = 121\\nvalue = [8, 113]'),\n",
              " Text(0.9772727272727273, 0.08333333333333333, 'gini = 0.0\\nsamples = 1\\nvalue = [1, 0]'),\n",
              " Text(0.9772727272727273, 0.4166666666666667, 'gini = 0.0\\nsamples = 1\\nvalue = [1, 0]')]"
            ]
          },
          "execution_count": 53,
          "metadata": {},
          "output_type": "execute_result"
        },
        {
          "data": {
            "image/png": "[encoded data removed]",
            "text/plain": [
              "<Figure size 432x288 with 1 Axes>"
            ]
          },
          "metadata": {},
          "output_type": "display_data"
        }
      ],
      "source": [
        "plot_tree(model_dt['model'])"
      ],
      "id": "R--26OHVbk06"
    },
    {
      "cell_type": "code",
      "execution_count": null,
      "metadata": {
        "colab": {
          "base_uri": "https://localhost:8080/"
        },
        "id": "llddf_7Fbk5e",
        "outputId": "4eb4c330-390d-49ff-cdfb-586563b23df2"
      },
      "outputs": [
        {
          "data": {
            "text/plain": [
              "[Text(0.4583333333333333, 0.9166666666666666, 'X[31] <= 0.5\\ngini = 0.365\\nsamples = 25582\\nvalue = [19426, 6156]'),\n",
              " Text(0.25, 0.75, 'X[1] <= 0.071\\ngini = 0.122\\nsamples = 13836\\nvalue = [12936, 900]'),\n",
              " Text(0.16666666666666666, 0.5833333333333334, 'X[3] <= 0.434\\ngini = 0.093\\nsamples = 13590\\nvalue = [12926, 664]'),\n",
              " Text(0.08333333333333333, 0.4166666666666667, 'gini = 0.053\\nsamples = 10953\\nvalue = [10652, 301]'),\n",
              " Text(0.25, 0.4166666666666667, 'gini = 0.237\\nsamples = 2637\\nvalue = [2274, 363]'),\n",
              " Text(0.3333333333333333, 0.5833333333333334, 'gini = 0.078\\nsamples = 246\\nvalue = [10, 236]'),\n",
              " Text(0.6666666666666666, 0.75, 'X[1] <= 0.051\\ngini = 0.494\\nsamples = 11746\\nvalue = [6490, 5256]'),\n",
              " Text(0.5833333333333334, 0.5833333333333334, 'X[2] <= 0.409\\ngini = 0.48\\nsamples = 10798\\nvalue = [6480, 4318]'),\n",
              " Text(0.4166666666666667, 0.4166666666666667, 'X[22] <= 0.5\\ngini = 0.468\\nsamples = 10190\\nvalue = [6390, 3800]'),\n",
              " Text(0.3333333333333333, 0.25, 'X[46] <= 0.5\\ngini = 0.44\\nsamples = 8486\\nvalue = [5710, 2776]'),\n",
              " Text(0.25, 0.08333333333333333, 'gini = 0.415\\nsamples = 7671\\nvalue = [5418, 2253]'),\n",
              " Text(0.4166666666666667, 0.08333333333333333, 'gini = 0.46\\nsamples = 815\\nvalue = [292, 523]'),\n",
              " Text(0.5, 0.25, 'gini = 0.48\\nsamples = 1704\\nvalue = [680, 1024]'),\n",
              " Text(0.75, 0.4166666666666667, 'X[2] <= 0.457\\ngini = 0.252\\nsamples = 608\\nvalue = [90, 518]'),\n",
              " Text(0.6666666666666666, 0.25, 'gini = 0.046\\nsamples = 468\\nvalue = [11, 457]'),\n",
              " Text(0.8333333333333334, 0.25, 'X[2] <= 0.543\\ngini = 0.492\\nsamples = 140\\nvalue = [79, 61]'),\n",
              " Text(0.75, 0.08333333333333333, 'gini = 0.195\\nsamples = 73\\nvalue = [65, 8]'),\n",
              " Text(0.9166666666666666, 0.08333333333333333, 'gini = 0.331\\nsamples = 67\\nvalue = [14, 53]'),\n",
              " Text(0.75, 0.5833333333333334, 'gini = 0.021\\nsamples = 948\\nvalue = [10, 938]')]"
            ]
          },
          "execution_count": 54,
          "metadata": {},
          "output_type": "execute_result"
        },
        {
          "data": {
            "image/png": "[encoded data removed]",
            "text/plain": [
              "<Figure size 432x288 with 1 Axes>"
            ]
          },
          "metadata": {},
          "output_type": "display_data"
        }
      ],
      "source": [
        "best_tree = grid_pipe.best_estimator_\n",
        "best_tree.fit(X_train, y_train)\n",
        "plot_tree(best_tree['model'])"
      ],
      "id": "llddf_7Fbk5e"
    },
    {
      "cell_type": "code",
      "execution_count": null,
      "metadata": {
        "id": "NCXXfPUcbk9l"
      },
      "outputs": [],
      "source": [],
      "id": "NCXXfPUcbk9l"
    },
    {
      "cell_type": "markdown",
      "metadata": {
        "id": "d8b49feb"
      },
      "source": [
        "# Problema 3: Custos em saúde (multiclasse)\n",
        "\n",
        "Um problema comum em hospitais e em planos de saúde é prever o custo dos clientes. Alguns pacientes necessitam de tratamento constante e caro e enquanto outros tem custos próximos de zero com picos de gastos devido algum problema de saúde. Nesse problema vamos analisar um dataset sobre pacientes com o objetivo de prever o custo do paciente em 2009, com base na informação sobre o paciente e o custo em 2008.\n",
        "\n",
        "O custo do paciente foi discretizado em categorias representados nas variáveis bucket2008 e bucket2009. O custo mensal do paciente, dependendo da categoria do bucket é:\n",
        "\n",
        "1. pacientes que custam menos de 3.000\n",
        "2. pacientes que custam entre 3.000 e 8.000\n",
        "3. pacientes que custam entre 8.000 e 19.000\n",
        "4. pacientes que custam entre 19.000 e 55.000\n",
        "5. pacientes que custam mais de 55.000\n",
        "\n",
        "## Análise\n",
        "\n",
        "Divida o conjunto em treinamento e teste. O objetivo é prever o custo do paciente em 2009 (variável bucket2009). Use algum método de classficação para prever a categoria de custo. Lembre-se que nesse tipo de problema queremos evitar o máximo possível de errar pacientes dos custos elevados (4 e 5)."
      ],
      "id": "d8b49feb"
    },
    {
      "cell_type": "code",
      "execution_count": null,
      "metadata": {
        "id": "_s4HP3oeEvi6"
      },
      "outputs": [],
      "source": [
        "# dataset desbalanceado, principalmente pra classes 4 e 5\n",
        "# rodar loop com 4 tipos de classificação e verificar log loss par verificar melhor modelo - aula de classificação  I ou II (reglog, KNN, SVM, DecisionTree, RandomForest)\n",
        "# GridSearch ou RandommizerCV pra hiperparametros\n",
        "# Matriz de confusão e curva ROC"
      ],
      "id": "_s4HP3oeEvi6"
    },
    {
      "cell_type": "code",
      "execution_count": null,
      "metadata": {
        "id": "e768de82"
      },
      "outputs": [],
      "source": [
        "dados3 = pd.read_csv('https://raw.githubusercontent.com/abnr/ml-data/main/ClaimsData.csv')"
      ],
      "id": "e768de82"
    },
    {
      "cell_type": "code",
      "execution_count": null,
      "metadata": {
        "colab": {
          "base_uri": "https://localhost:8080/",
          "height": 270
        },
        "id": "42a8e67c",
        "outputId": "a920e218-46c5-4809-ab76-6ea0213362c2"
      },
      "outputs": [
        {
          "data": {
            "text/html": [
              "\n",
              "  <div id=\"df-d2c6ceaf-815e-49be-8f3e-380a8d3d92dd\">\n",
              "    <div class=\"colab-df-container\">\n",
              "      <div>\n",
              "<style scoped>\n",
              "    .dataframe tbody tr th:only-of-type {\n",
              "        vertical-align: middle;\n",
              "    }\n",
              "\n",
              "    .dataframe tbody tr th {\n",
              "        vertical-align: top;\n",
              "    }\n",
              "\n",
              "    .dataframe thead th {\n",
              "        text-align: right;\n",
              "    }\n",
              "</style>\n",
              "<table border=\"1\" class=\"dataframe\">\n",
              "  <thead>\n",
              "    <tr style=\"text-align: right;\">\n",
              "      <th></th>\n",
              "      <th>age</th>\n",
              "      <th>alzheimers</th>\n",
              "      <th>arthritis</th>\n",
              "      <th>cancer</th>\n",
              "      <th>copd</th>\n",
              "      <th>depression</th>\n",
              "      <th>diabetes</th>\n",
              "      <th>heart.failure</th>\n",
              "      <th>ihd</th>\n",
              "      <th>kidney</th>\n",
              "      <th>osteoporosis</th>\n",
              "      <th>stroke</th>\n",
              "      <th>reimbursement2008</th>\n",
              "      <th>bucket2008</th>\n",
              "      <th>reimbursement2009</th>\n",
              "      <th>bucket2009</th>\n",
              "    </tr>\n",
              "  </thead>\n",
              "  <tbody>\n",
              "    <tr>\n",
              "      <th>0</th>\n",
              "      <td>85</td>\n",
              "      <td>0</td>\n",
              "      <td>0</td>\n",
              "      <td>0</td>\n",
              "      <td>0</td>\n",
              "      <td>0</td>\n",
              "      <td>0</td>\n",
              "      <td>0</td>\n",
              "      <td>0</td>\n",
              "      <td>0</td>\n",
              "      <td>0</td>\n",
              "      <td>0</td>\n",
              "      <td>0</td>\n",
              "      <td>1</td>\n",
              "      <td>0</td>\n",
              "      <td>1</td>\n",
              "    </tr>\n",
              "    <tr>\n",
              "      <th>1</th>\n",
              "      <td>59</td>\n",
              "      <td>0</td>\n",
              "      <td>0</td>\n",
              "      <td>0</td>\n",
              "      <td>0</td>\n",
              "      <td>0</td>\n",
              "      <td>0</td>\n",
              "      <td>0</td>\n",
              "      <td>0</td>\n",
              "      <td>0</td>\n",
              "      <td>0</td>\n",
              "      <td>0</td>\n",
              "      <td>0</td>\n",
              "      <td>1</td>\n",
              "      <td>0</td>\n",
              "      <td>1</td>\n",
              "    </tr>\n",
              "    <tr>\n",
              "      <th>2</th>\n",
              "      <td>67</td>\n",
              "      <td>0</td>\n",
              "      <td>0</td>\n",
              "      <td>0</td>\n",
              "      <td>0</td>\n",
              "      <td>0</td>\n",
              "      <td>0</td>\n",
              "      <td>0</td>\n",
              "      <td>0</td>\n",
              "      <td>0</td>\n",
              "      <td>0</td>\n",
              "      <td>0</td>\n",
              "      <td>0</td>\n",
              "      <td>1</td>\n",
              "      <td>0</td>\n",
              "      <td>1</td>\n",
              "    </tr>\n",
              "    <tr>\n",
              "      <th>3</th>\n",
              "      <td>52</td>\n",
              "      <td>0</td>\n",
              "      <td>0</td>\n",
              "      <td>0</td>\n",
              "      <td>0</td>\n",
              "      <td>0</td>\n",
              "      <td>0</td>\n",
              "      <td>0</td>\n",
              "      <td>0</td>\n",
              "      <td>0</td>\n",
              "      <td>0</td>\n",
              "      <td>0</td>\n",
              "      <td>0</td>\n",
              "      <td>1</td>\n",
              "      <td>0</td>\n",
              "      <td>1</td>\n",
              "    </tr>\n",
              "    <tr>\n",
              "      <th>4</th>\n",
              "      <td>67</td>\n",
              "      <td>0</td>\n",
              "      <td>0</td>\n",
              "      <td>0</td>\n",
              "      <td>0</td>\n",
              "      <td>0</td>\n",
              "      <td>0</td>\n",
              "      <td>0</td>\n",
              "      <td>0</td>\n",
              "      <td>0</td>\n",
              "      <td>0</td>\n",
              "      <td>0</td>\n",
              "      <td>0</td>\n",
              "      <td>1</td>\n",
              "      <td>0</td>\n",
              "      <td>1</td>\n",
              "    </tr>\n",
              "  </tbody>\n",
              "</table>\n",
              "</div>\n",
              "      <button class=\"colab-df-convert\" onclick=\"convertToInteractive('df-d2c6ceaf-815e-49be-8f3e-380a8d3d92dd')\"\n",
              "              title=\"Convert this dataframe to an interactive table.\"\n",
              "              style=\"display:none;\">\n",
              "        \n",
              "  <svg xmlns=\"http://www.w3.org/2000/svg\" height=\"24px\"viewBox=\"0 0 24 24\"\n",
              "       width=\"24px\">\n",
              "    <path d=\"M0 0h24v24H0V0z\" fill=\"none\"/>\n",
              "    <path d=\"M18.56 5.44l.94 2.06.94-2.06 2.06-.94-2.06-.94-.94-2.06-.94 2.06-2.06.94zm-11 1L8.5 8.5l.94-2.06 2.06-.94-2.06-.94L8.5 2.5l-.94 2.06-2.06.94zm10 10l.94 2.06.94-2.06 2.06-.94-2.06-.94-.94-2.06-.94 2.06-2.06.94z\"/><path d=\"M17.41 7.96l-1.37-1.37c-.4-.4-.92-.59-1.43-.59-.52 0-1.04.2-1.43.59L10.3 9.45l-7.72 7.72c-.78.78-.78 2.05 0 2.83L4 21.41c.39.39.9.59 1.41.59.51 0 1.02-.2 1.41-.59l7.78-7.78 2.81-2.81c.8-.78.8-2.07 0-2.86zM5.41 20L4 18.59l7.72-7.72 1.47 1.35L5.41 20z\"/>\n",
              "  </svg>\n",
              "      </button>\n",
              "      \n",
              "  <style>\n",
              "    .colab-df-container {\n",
              "      display:flex;\n",
              "      flex-wrap:wrap;\n",
              "      gap: 12px;\n",
              "    }\n",
              "\n",
              "    .colab-df-convert {\n",
              "      background-color: #E8F0FE;\n",
              "      border: none;\n",
              "      border-radius: 50%;\n",
              "      cursor: pointer;\n",
              "      display: none;\n",
              "      fill: #1967D2;\n",
              "      height: 32px;\n",
              "      padding: 0 0 0 0;\n",
              "      width: 32px;\n",
              "    }\n",
              "\n",
              "    .colab-df-convert:hover {\n",
              "      background-color: #E2EBFA;\n",
              "      box-shadow: 0px 1px 2px rgba(60, 64, 67, 0.3), 0px 1px 3px 1px rgba(60, 64, 67, 0.15);\n",
              "      fill: #174EA6;\n",
              "    }\n",
              "\n",
              "    [theme=dark] .colab-df-convert {\n",
              "      background-color: #3B4455;\n",
              "      fill: #D2E3FC;\n",
              "    }\n",
              "\n",
              "    [theme=dark] .colab-df-convert:hover {\n",
              "      background-color: #434B5C;\n",
              "      box-shadow: 0px 1px 3px 1px rgba(0, 0, 0, 0.15);\n",
              "      filter: drop-shadow(0px 1px 2px rgba(0, 0, 0, 0.3));\n",
              "      fill: #FFFFFF;\n",
              "    }\n",
              "  </style>\n",
              "\n",
              "      <script>\n",
              "        const buttonEl =\n",
              "          document.querySelector('#df-d2c6ceaf-815e-49be-8f3e-380a8d3d92dd button.colab-df-convert');\n",
              "        buttonEl.style.display =\n",
              "          google.colab.kernel.accessAllowed ? 'block' : 'none';\n",
              "\n",
              "        async function convertToInteractive(key) {\n",
              "          const element = document.querySelector('#df-d2c6ceaf-815e-49be-8f3e-380a8d3d92dd');\n",
              "          const dataTable =\n",
              "            await google.colab.kernel.invokeFunction('convertToInteractive',\n",
              "                                                     [key], {});\n",
              "          if (!dataTable) return;\n",
              "\n",
              "          const docLinkHtml = 'Like what you see? Visit the ' +\n",
              "            '<a target=\"_blank\" href=https://colab.research.google.com/notebooks/data_table.ipynb>data table notebook</a>'\n",
              "            + ' to learn more about interactive tables.';\n",
              "          element.innerHTML = '';\n",
              "          dataTable['output_type'] = 'display_data';\n",
              "          await google.colab.output.renderOutput(dataTable, element);\n",
              "          const docLink = document.createElement('div');\n",
              "          docLink.innerHTML = docLinkHtml;\n",
              "          element.appendChild(docLink);\n",
              "        }\n",
              "      </script>\n",
              "    </div>\n",
              "  </div>\n",
              "  "
            ],
            "text/plain": [
              "   age  alzheimers  arthritis  cancer  copd  depression  diabetes  \\\n",
              "0   85           0          0       0     0           0         0   \n",
              "1   59           0          0       0     0           0         0   \n",
              "2   67           0          0       0     0           0         0   \n",
              "3   52           0          0       0     0           0         0   \n",
              "4   67           0          0       0     0           0         0   \n",
              "\n",
              "   heart.failure  ihd  kidney  osteoporosis  stroke  reimbursement2008  \\\n",
              "0              0    0       0             0       0                  0   \n",
              "1              0    0       0             0       0                  0   \n",
              "2              0    0       0             0       0                  0   \n",
              "3              0    0       0             0       0                  0   \n",
              "4              0    0       0             0       0                  0   \n",
              "\n",
              "   bucket2008  reimbursement2009  bucket2009  \n",
              "0           1                  0           1  \n",
              "1           1                  0           1  \n",
              "2           1                  0           1  \n",
              "3           1                  0           1  \n",
              "4           1                  0           1  "
            ]
          },
          "execution_count": 57,
          "metadata": {},
          "output_type": "execute_result"
        }
      ],
      "source": [
        "dados3.head()"
      ],
      "id": "42a8e67c"
    },
    {
      "cell_type": "markdown",
      "metadata": {
        "id": "EZmiMStB2_cp"
      },
      "source": [
        "### Analise exploratória"
      ],
      "id": "EZmiMStB2_cp"
    },
    {
      "cell_type": "code",
      "execution_count": null,
      "metadata": {
        "colab": {
          "base_uri": "https://localhost:8080/"
        },
        "id": "13702abb",
        "outputId": "10737143-0216-4be7-a374-0177906860a3"
      },
      "outputs": [
        {
          "name": "stdout",
          "output_type": "stream",
          "text": [
            "<class 'pandas.core.frame.DataFrame'>\n",
            "RangeIndex: 458005 entries, 0 to 458004\n",
            "Data columns (total 16 columns):\n",
            " #   Column             Non-Null Count   Dtype\n",
            "---  ------             --------------   -----\n",
            " 0   age                458005 non-null  int64\n",
            " 1   alzheimers         458005 non-null  int64\n",
            " 2   arthritis          458005 non-null  int64\n",
            " 3   cancer             458005 non-null  int64\n",
            " 4   copd               458005 non-null  int64\n",
            " 5   depression         458005 non-null  int64\n",
            " 6   diabetes           458005 non-null  int64\n",
            " 7   heart.failure      458005 non-null  int64\n",
            " 8   ihd                458005 non-null  int64\n",
            " 9   kidney             458005 non-null  int64\n",
            " 10  osteoporosis       458005 non-null  int64\n",
            " 11  stroke             458005 non-null  int64\n",
            " 12  reimbursement2008  458005 non-null  int64\n",
            " 13  bucket2008         458005 non-null  int64\n",
            " 14  reimbursement2009  458005 non-null  int64\n",
            " 15  bucket2009         458005 non-null  int64\n",
            "dtypes: int64(16)\n",
            "memory usage: 55.9 MB\n"
          ]
        }
      ],
      "source": [
        "dados3.info()"
      ],
      "id": "13702abb"
    },
    {
      "cell_type": "code",
      "execution_count": null,
      "metadata": {
        "colab": {
          "base_uri": "https://localhost:8080/"
        },
        "id": "jD7cBlw33C7Y",
        "outputId": "6a620e02-1702-4049-c4d7-05eafe329068"
      },
      "outputs": [
        {
          "data": {
            "text/plain": [
              "(458005, 16)"
            ]
          },
          "execution_count": 59,
          "metadata": {},
          "output_type": "execute_result"
        }
      ],
      "source": [
        "dados3.shape"
      ],
      "id": "jD7cBlw33C7Y"
    },
    {
      "cell_type": "code",
      "execution_count": null,
      "metadata": {
        "colab": {
          "base_uri": "https://localhost:8080/"
        },
        "id": "zq61aA8H3Ee4",
        "outputId": "4311e414-6003-4ede-f96c-be7f73671087"
      },
      "outputs": [
        {
          "data": {
            "text/html": [
              "\n",
              "  <div id=\"df-405d5c0d-704e-4586-84fa-3cbef80e6172\">\n",
              "    <div class=\"colab-df-container\">\n",
              "      <div>\n",
              "<style scoped>\n",
              "    .dataframe tbody tr th:only-of-type {\n",
              "        vertical-align: middle;\n",
              "    }\n",
              "\n",
              "    .dataframe tbody tr th {\n",
              "        vertical-align: top;\n",
              "    }\n",
              "\n",
              "    .dataframe thead th {\n",
              "        text-align: right;\n",
              "    }\n",
              "</style>\n",
              "<table border=\"1\" class=\"dataframe\">\n",
              "  <thead>\n",
              "    <tr style=\"text-align: right;\">\n",
              "      <th></th>\n",
              "      <th>age</th>\n",
              "      <th>alzheimers</th>\n",
              "      <th>arthritis</th>\n",
              "      <th>cancer</th>\n",
              "      <th>copd</th>\n",
              "      <th>depression</th>\n",
              "      <th>diabetes</th>\n",
              "      <th>heart.failure</th>\n",
              "      <th>ihd</th>\n",
              "      <th>kidney</th>\n",
              "      <th>osteoporosis</th>\n",
              "      <th>stroke</th>\n",
              "      <th>reimbursement2008</th>\n",
              "      <th>bucket2008</th>\n",
              "      <th>reimbursement2009</th>\n",
              "      <th>bucket2009</th>\n",
              "    </tr>\n",
              "  </thead>\n",
              "  <tbody>\n",
              "    <tr>\n",
              "      <th>count</th>\n",
              "      <td>458005.000000</td>\n",
              "      <td>458005.000000</td>\n",
              "      <td>458005.000000</td>\n",
              "      <td>458005.000000</td>\n",
              "      <td>458005.000000</td>\n",
              "      <td>458005.000000</td>\n",
              "      <td>458005.000000</td>\n",
              "      <td>458005.000000</td>\n",
              "      <td>458005.000000</td>\n",
              "      <td>458005.000000</td>\n",
              "      <td>458005.000000</td>\n",
              "      <td>458005.000000</td>\n",
              "      <td>458005.000000</td>\n",
              "      <td>458005.000000</td>\n",
              "      <td>458005.000000</td>\n",
              "      <td>458005.000000</td>\n",
              "    </tr>\n",
              "    <tr>\n",
              "      <th>mean</th>\n",
              "      <td>72.628401</td>\n",
              "      <td>0.192214</td>\n",
              "      <td>0.154293</td>\n",
              "      <td>0.064106</td>\n",
              "      <td>0.136071</td>\n",
              "      <td>0.213076</td>\n",
              "      <td>0.380463</td>\n",
              "      <td>0.284744</td>\n",
              "      <td>0.420063</td>\n",
              "      <td>0.161153</td>\n",
              "      <td>0.173996</td>\n",
              "      <td>0.044792</td>\n",
              "      <td>4004.963854</td>\n",
              "      <td>1.436862</td>\n",
              "      <td>4277.432823</td>\n",
              "      <td>1.522160</td>\n",
              "    </tr>\n",
              "    <tr>\n",
              "      <th>std</th>\n",
              "      <td>12.557114</td>\n",
              "      <td>0.394041</td>\n",
              "      <td>0.361230</td>\n",
              "      <td>0.244942</td>\n",
              "      <td>0.342864</td>\n",
              "      <td>0.409482</td>\n",
              "      <td>0.485501</td>\n",
              "      <td>0.451293</td>\n",
              "      <td>0.493569</td>\n",
              "      <td>0.367673</td>\n",
              "      <td>0.379106</td>\n",
              "      <td>0.206847</td>\n",
              "      <td>9784.064063</td>\n",
              "      <td>0.861955</td>\n",
              "      <td>8480.041283</td>\n",
              "      <td>0.870425</td>\n",
              "    </tr>\n",
              "    <tr>\n",
              "      <th>min</th>\n",
              "      <td>26.000000</td>\n",
              "      <td>0.000000</td>\n",
              "      <td>0.000000</td>\n",
              "      <td>0.000000</td>\n",
              "      <td>0.000000</td>\n",
              "      <td>0.000000</td>\n",
              "      <td>0.000000</td>\n",
              "      <td>0.000000</td>\n",
              "      <td>0.000000</td>\n",
              "      <td>0.000000</td>\n",
              "      <td>0.000000</td>\n",
              "      <td>0.000000</td>\n",
              "      <td>0.000000</td>\n",
              "      <td>1.000000</td>\n",
              "      <td>0.000000</td>\n",
              "      <td>1.000000</td>\n",
              "    </tr>\n",
              "    <tr>\n",
              "      <th>25%</th>\n",
              "      <td>67.000000</td>\n",
              "      <td>0.000000</td>\n",
              "      <td>0.000000</td>\n",
              "      <td>0.000000</td>\n",
              "      <td>0.000000</td>\n",
              "      <td>0.000000</td>\n",
              "      <td>0.000000</td>\n",
              "      <td>0.000000</td>\n",
              "      <td>0.000000</td>\n",
              "      <td>0.000000</td>\n",
              "      <td>0.000000</td>\n",
              "      <td>0.000000</td>\n",
              "      <td>0.000000</td>\n",
              "      <td>1.000000</td>\n",
              "      <td>130.000000</td>\n",
              "      <td>1.000000</td>\n",
              "    </tr>\n",
              "    <tr>\n",
              "      <th>50%</th>\n",
              "      <td>73.000000</td>\n",
              "      <td>0.000000</td>\n",
              "      <td>0.000000</td>\n",
              "      <td>0.000000</td>\n",
              "      <td>0.000000</td>\n",
              "      <td>0.000000</td>\n",
              "      <td>0.000000</td>\n",
              "      <td>0.000000</td>\n",
              "      <td>0.000000</td>\n",
              "      <td>0.000000</td>\n",
              "      <td>0.000000</td>\n",
              "      <td>0.000000</td>\n",
              "      <td>950.000000</td>\n",
              "      <td>1.000000</td>\n",
              "      <td>1540.000000</td>\n",
              "      <td>1.000000</td>\n",
              "    </tr>\n",
              "    <tr>\n",
              "      <th>75%</th>\n",
              "      <td>81.000000</td>\n",
              "      <td>0.000000</td>\n",
              "      <td>0.000000</td>\n",
              "      <td>0.000000</td>\n",
              "      <td>0.000000</td>\n",
              "      <td>0.000000</td>\n",
              "      <td>1.000000</td>\n",
              "      <td>1.000000</td>\n",
              "      <td>1.000000</td>\n",
              "      <td>0.000000</td>\n",
              "      <td>0.000000</td>\n",
              "      <td>0.000000</td>\n",
              "      <td>3110.000000</td>\n",
              "      <td>2.000000</td>\n",
              "      <td>4220.000000</td>\n",
              "      <td>2.000000</td>\n",
              "    </tr>\n",
              "    <tr>\n",
              "      <th>max</th>\n",
              "      <td>100.000000</td>\n",
              "      <td>1.000000</td>\n",
              "      <td>1.000000</td>\n",
              "      <td>1.000000</td>\n",
              "      <td>1.000000</td>\n",
              "      <td>1.000000</td>\n",
              "      <td>1.000000</td>\n",
              "      <td>1.000000</td>\n",
              "      <td>1.000000</td>\n",
              "      <td>1.000000</td>\n",
              "      <td>1.000000</td>\n",
              "      <td>1.000000</td>\n",
              "      <td>221640.000000</td>\n",
              "      <td>5.000000</td>\n",
              "      <td>189930.000000</td>\n",
              "      <td>5.000000</td>\n",
              "    </tr>\n",
              "  </tbody>\n",
              "</table>\n",
              "</div>\n",
              "      <button class=\"colab-df-convert\" onclick=\"convertToInteractive('df-405d5c0d-704e-4586-84fa-3cbef80e6172')\"\n",
              "              title=\"Convert this dataframe to an interactive table.\"\n",
              "              style=\"display:none;\">\n",
              "        \n",
              "  <svg xmlns=\"http://www.w3.org/2000/svg\" height=\"24px\"viewBox=\"0 0 24 24\"\n",
              "       width=\"24px\">\n",
              "    <path d=\"M0 0h24v24H0V0z\" fill=\"none\"/>\n",
              "    <path d=\"M18.56 5.44l.94 2.06.94-2.06 2.06-.94-2.06-.94-.94-2.06-.94 2.06-2.06.94zm-11 1L8.5 8.5l.94-2.06 2.06-.94-2.06-.94L8.5 2.5l-.94 2.06-2.06.94zm10 10l.94 2.06.94-2.06 2.06-.94-2.06-.94-.94-2.06-.94 2.06-2.06.94z\"/><path d=\"M17.41 7.96l-1.37-1.37c-.4-.4-.92-.59-1.43-.59-.52 0-1.04.2-1.43.59L10.3 9.45l-7.72 7.72c-.78.78-.78 2.05 0 2.83L4 21.41c.39.39.9.59 1.41.59.51 0 1.02-.2 1.41-.59l7.78-7.78 2.81-2.81c.8-.78.8-2.07 0-2.86zM5.41 20L4 18.59l7.72-7.72 1.47 1.35L5.41 20z\"/>\n",
              "  </svg>\n",
              "      </button>\n",
              "      \n",
              "  <style>\n",
              "    .colab-df-container {\n",
              "      display:flex;\n",
              "      flex-wrap:wrap;\n",
              "      gap: 12px;\n",
              "    }\n",
              "\n",
              "    .colab-df-convert {\n",
              "      background-color: #E8F0FE;\n",
              "      border: none;\n",
              "      border-radius: 50%;\n",
              "      cursor: pointer;\n",
              "      display: none;\n",
              "      fill: #1967D2;\n",
              "      height: 32px;\n",
              "      padding: 0 0 0 0;\n",
              "      width: 32px;\n",
              "    }\n",
              "\n",
              "    .colab-df-convert:hover {\n",
              "      background-color: #E2EBFA;\n",
              "      box-shadow: 0px 1px 2px rgba(60, 64, 67, 0.3), 0px 1px 3px 1px rgba(60, 64, 67, 0.15);\n",
              "      fill: #174EA6;\n",
              "    }\n",
              "\n",
              "    [theme=dark] .colab-df-convert {\n",
              "      background-color: #3B4455;\n",
              "      fill: #D2E3FC;\n",
              "    }\n",
              "\n",
              "    [theme=dark] .colab-df-convert:hover {\n",
              "      background-color: #434B5C;\n",
              "      box-shadow: 0px 1px 3px 1px rgba(0, 0, 0, 0.15);\n",
              "      filter: drop-shadow(0px 1px 2px rgba(0, 0, 0, 0.3));\n",
              "      fill: #FFFFFF;\n",
              "    }\n",
              "  </style>\n",
              "\n",
              "      <script>\n",
              "        const buttonEl =\n",
              "          document.querySelector('#df-405d5c0d-704e-4586-84fa-3cbef80e6172 button.colab-df-convert');\n",
              "        buttonEl.style.display =\n",
              "          google.colab.kernel.accessAllowed ? 'block' : 'none';\n",
              "\n",
              "        async function convertToInteractive(key) {\n",
              "          const element = document.querySelector('#df-405d5c0d-704e-4586-84fa-3cbef80e6172');\n",
              "          const dataTable =\n",
              "            await google.colab.kernel.invokeFunction('convertToInteractive',\n",
              "                                                     [key], {});\n",
              "          if (!dataTable) return;\n",
              "\n",
              "          const docLinkHtml = 'Like what you see? Visit the ' +\n",
              "            '<a target=\"_blank\" href=https://colab.research.google.com/notebooks/data_table.ipynb>data table notebook</a>'\n",
              "            + ' to learn more about interactive tables.';\n",
              "          element.innerHTML = '';\n",
              "          dataTable['output_type'] = 'display_data';\n",
              "          await google.colab.output.renderOutput(dataTable, element);\n",
              "          const docLink = document.createElement('div');\n",
              "          docLink.innerHTML = docLinkHtml;\n",
              "          element.appendChild(docLink);\n",
              "        }\n",
              "      </script>\n",
              "    </div>\n",
              "  </div>\n",
              "  "
            ],
            "text/plain": [
              "                 age     alzheimers      arthritis         cancer  \\\n",
              "count  458005.000000  458005.000000  458005.000000  458005.000000   \n",
              "mean       72.628401       0.192214       0.154293       0.064106   \n",
              "std        12.557114       0.394041       0.361230       0.244942   \n",
              "min        26.000000       0.000000       0.000000       0.000000   \n",
              "25%        67.000000       0.000000       0.000000       0.000000   \n",
              "50%        73.000000       0.000000       0.000000       0.000000   \n",
              "75%        81.000000       0.000000       0.000000       0.000000   \n",
              "max       100.000000       1.000000       1.000000       1.000000   \n",
              "\n",
              "                copd     depression       diabetes  heart.failure  \\\n",
              "count  458005.000000  458005.000000  458005.000000  458005.000000   \n",
              "mean        0.136071       0.213076       0.380463       0.284744   \n",
              "std         0.342864       0.409482       0.485501       0.451293   \n",
              "min         0.000000       0.000000       0.000000       0.000000   \n",
              "25%         0.000000       0.000000       0.000000       0.000000   \n",
              "50%         0.000000       0.000000       0.000000       0.000000   \n",
              "75%         0.000000       0.000000       1.000000       1.000000   \n",
              "max         1.000000       1.000000       1.000000       1.000000   \n",
              "\n",
              "                 ihd         kidney   osteoporosis         stroke  \\\n",
              "count  458005.000000  458005.000000  458005.000000  458005.000000   \n",
              "mean        0.420063       0.161153       0.173996       0.044792   \n",
              "std         0.493569       0.367673       0.379106       0.206847   \n",
              "min         0.000000       0.000000       0.000000       0.000000   \n",
              "25%         0.000000       0.000000       0.000000       0.000000   \n",
              "50%         0.000000       0.000000       0.000000       0.000000   \n",
              "75%         1.000000       0.000000       0.000000       0.000000   \n",
              "max         1.000000       1.000000       1.000000       1.000000   \n",
              "\n",
              "       reimbursement2008     bucket2008  reimbursement2009     bucket2009  \n",
              "count      458005.000000  458005.000000      458005.000000  458005.000000  \n",
              "mean         4004.963854       1.436862        4277.432823       1.522160  \n",
              "std          9784.064063       0.861955        8480.041283       0.870425  \n",
              "min             0.000000       1.000000           0.000000       1.000000  \n",
              "25%             0.000000       1.000000         130.000000       1.000000  \n",
              "50%           950.000000       1.000000        1540.000000       1.000000  \n",
              "75%          3110.000000       2.000000        4220.000000       2.000000  \n",
              "max        221640.000000       5.000000      189930.000000       5.000000  "
            ]
          },
          "execution_count": 60,
          "metadata": {},
          "output_type": "execute_result"
        }
      ],
      "source": [
        "dados3.describe()"
      ],
      "id": "zq61aA8H3Ee4"
    },
    {
      "cell_type": "code",
      "execution_count": null,
      "metadata": {
        "colab": {
          "base_uri": "https://localhost:8080/"
        },
        "id": "GSCH_ul13F4Q",
        "outputId": "a7f2ff3e-17ee-4fb9-f7cc-b0d9b32e64a7"
      },
      "outputs": [
        {
          "data": {
            "text/plain": [
              "array([[<matplotlib.axes._subplots.AxesSubplot object at 0x7f1fe7a83c10>,\n",
              "        <matplotlib.axes._subplots.AxesSubplot object at 0x7f1fe7a74150>,\n",
              "        <matplotlib.axes._subplots.AxesSubplot object at 0x7f1fe7991250>,\n",
              "        <matplotlib.axes._subplots.AxesSubplot object at 0x7f1fe7ca8cd0>],\n",
              "       [<matplotlib.axes._subplots.AxesSubplot object at 0x7f1fe7d29110>,\n",
              "        <matplotlib.axes._subplots.AxesSubplot object at 0x7f1fe7c64e10>,\n",
              "        <matplotlib.axes._subplots.AxesSubplot object at 0x7f1fe7e36310>,\n",
              "        <matplotlib.axes._subplots.AxesSubplot object at 0x7f1fe45e4a90>],\n",
              "       [<matplotlib.axes._subplots.AxesSubplot object at 0x7f1fe45e4ad0>,\n",
              "        <matplotlib.axes._subplots.AxesSubplot object at 0x7f1fe459d210>,\n",
              "        <matplotlib.axes._subplots.AxesSubplot object at 0x7f1fe458ad10>,\n",
              "        <matplotlib.axes._subplots.AxesSubplot object at 0x7f1fe454e350>],\n",
              "       [<matplotlib.axes._subplots.AxesSubplot object at 0x7f1fe4505950>,\n",
              "        <matplotlib.axes._subplots.AxesSubplot object at 0x7f1fe44baf50>,\n",
              "        <matplotlib.axes._subplots.AxesSubplot object at 0x7f1fe447e590>,\n",
              "        <matplotlib.axes._subplots.AxesSubplot object at 0x7f1fe4434b90>]],\n",
              "      dtype=object)"
            ]
          },
          "execution_count": 61,
          "metadata": {},
          "output_type": "execute_result"
        },
        {
          "data": {
            "image/png": "[encoded data removed]",
            "text/plain": [
              "<Figure size 720x720 with 16 Axes>"
            ]
          },
          "metadata": {},
          "output_type": "display_data"
        }
      ],
      "source": [
        "dados3.hist(figsize=(10,10))"
      ],
      "id": "GSCH_ul13F4Q"
    },
    {
      "cell_type": "code",
      "execution_count": null,
      "metadata": {
        "colab": {
          "base_uri": "https://localhost:8080/"
        },
        "id": "Wx779G9Z3Hsq",
        "outputId": "445f4554-1875-459a-a5c7-11fc79cfe076"
      },
      "outputs": [
        {
          "data": {
            "text/plain": [
              "1    307444\n",
              "2     87099\n",
              "3     40976\n",
              "4     19843\n",
              "5      2643\n",
              "Name: bucket2009, dtype: int64"
            ]
          },
          "execution_count": 62,
          "metadata": {},
          "output_type": "execute_result"
        }
      ],
      "source": [
        "# Dataset é desbalanceado... teremos que fazer uma divisão estratificada\n",
        "dados3['bucket2009'].value_counts()"
      ],
      "id": "Wx779G9Z3Hsq"
    },
    {
      "cell_type": "code",
      "execution_count": null,
      "metadata": {
        "colab": {
          "base_uri": "https://localhost:8080/"
        },
        "id": "kLi_mBby3I_I",
        "outputId": "9c442c9d-13e0-4663-a9ad-11b21d629a6a"
      },
      "outputs": [
        {
          "data": {
            "text/plain": [
              "bucket2009           1.000000\n",
              "reimbursement2009    0.856687\n",
              "bucket2008           0.452209\n",
              "diabetes             0.389335\n",
              "ihd                  0.389230\n",
              "reimbursement2008    0.375460\n",
              "kidney               0.369269\n",
              "heart.failure        0.365463\n",
              "copd                 0.311433\n",
              "depression           0.282856\n",
              "alzheimers           0.274621\n",
              "arthritis            0.270990\n",
              "cancer               0.210775\n",
              "osteoporosis         0.206344\n",
              "stroke               0.185346\n",
              "age                  0.050100\n",
              "Name: bucket2009, dtype: float64"
            ]
          },
          "execution_count": 63,
          "metadata": {},
          "output_type": "execute_result"
        }
      ],
      "source": [
        "# Correlação com a variavel resposta\n",
        "dados3.corr()['bucket2009'].sort_values(ascending=False)"
      ],
      "id": "kLi_mBby3I_I"
    },
    {
      "cell_type": "markdown",
      "metadata": {
        "id": "Y5okXh1R3OnS"
      },
      "source": [
        "### Train test split e pré-processamento"
      ],
      "id": "Y5okXh1R3OnS"
    },
    {
      "cell_type": "code",
      "execution_count": null,
      "metadata": {
        "id": "E9lUmcvp3PMX"
      },
      "outputs": [],
      "source": [
        "# Train test split estratificado\n",
        "\n",
        "X = dados3.drop(columns='bucket2009')\n",
        "y = dados3['bucket2009']\n",
        "\n",
        "X_train, X_test, y_train, y_test = train_test_split(X, y, test_size=0.3, stratify=y, random_state=123)"
      ],
      "id": "E9lUmcvp3PMX"
    },
    {
      "cell_type": "code",
      "execution_count": null,
      "metadata": {
        "colab": {
          "base_uri": "https://localhost:8080/",
          "height": 404
        },
        "id": "FScL76fM3Qst",
        "outputId": "e0309389-6da6-47c0-b19f-bed58a5a8124"
      },
      "outputs": [
        {
          "data": {
            "text/plain": [
              "{'boxes': [<matplotlib.lines.Line2D at 0x7f1fe40b39d0>],\n",
              " 'caps': [<matplotlib.lines.Line2D at 0x7f1fe40888d0>,\n",
              "  <matplotlib.lines.Line2D at 0x7f1fe4088890>],\n",
              " 'fliers': [<matplotlib.lines.Line2D at 0x7f1fe40182d0>],\n",
              " 'means': [],\n",
              " 'medians': [<matplotlib.lines.Line2D at 0x7f1fe4088e50>],\n",
              " 'whiskers': [<matplotlib.lines.Line2D at 0x7f1fe40b83d0>,\n",
              "  <matplotlib.lines.Line2D at 0x7f1fe40b81d0>]}"
            ]
          },
          "execution_count": 65,
          "metadata": {},
          "output_type": "execute_result"
        },
        {
          "data": {
            "image/png": "[encoded data removed]",
            "text/plain": [
              "<Figure size 432x288 with 1 Axes>"
            ]
          },
          "metadata": {},
          "output_type": "display_data"
        }
      ],
      "source": [
        "# Programando processamento:\n",
        "# coluna Age, reimbursement2008 e 2009 - normalizando para conseguir abranger dados dos outliers - StandardScaler\n",
        "# coluna bucket2009: OneHotEncoder\n",
        "plt.boxplot(dados3['age'])"
      ],
      "id": "FScL76fM3Qst"
    },
    {
      "cell_type": "code",
      "execution_count": null,
      "metadata": {
        "id": "I4cWA8qt3R3A"
      },
      "outputs": [],
      "source": [
        "X_stand = X_train[['age', 'reimbursement2008', 'reimbursement2009']].columns.tolist()\n",
        "X_cat = X_train[['bucket2008']].columns.tolist()"
      ],
      "id": "I4cWA8qt3R3A"
    },
    {
      "cell_type": "code",
      "execution_count": null,
      "metadata": {
        "id": "Wk67KjCT3TRv"
      },
      "outputs": [],
      "source": [
        "# Programando processamento coluna Age - Column Transformer com MinMaxScaler\n",
        "\n",
        "stand_preprocessor = ('standard_scaler',\n",
        "                    StandardScaler(),\n",
        "                    X_stand)\n",
        "\n",
        "cat_preprocessor = ('one_hot_encoder',\n",
        "                    OneHotEncoder(),\n",
        "                    X_cat)\n",
        "\n",
        "transformers = [stand_preprocessor, cat_preprocessor]\n",
        "\n",
        "pre_processor = ColumnTransformer(transformers)"
      ],
      "id": "Wk67KjCT3TRv"
    },
    {
      "cell_type": "code",
      "execution_count": null,
      "metadata": {
        "id": "CzqFXD_43UkP"
      },
      "outputs": [],
      "source": [
        "# Rodando os modelos\n",
        "\n",
        "Reglog = Pipeline(steps=[('pre_processor', pre_processor),\n",
        "                          ('model', LogisticRegression(max_iter=5000))])\n",
        "\n",
        "knn = Pipeline(steps=[('pre_processor', pre_processor),\n",
        "                      ('model', KNeighborsClassifier())])\n",
        "\n",
        "\n",
        "svm = Pipeline(steps=[('pre_processor', pre_processor),\n",
        "                      ('model', LinearSVC())])\n",
        "\n",
        "DecTree = Pipeline(steps=[('pre_processor', pre_processor),\n",
        "                          ('model', DecisionTreeClassifier())])\n",
        "\n",
        "NaiveBayes = Pipeline(steps=[('pre_processor', pre_processor),\n",
        "                             ('model', GaussianNB())])"
      ],
      "id": "CzqFXD_43UkP"
    },
    {
      "cell_type": "code",
      "execution_count": null,
      "metadata": {
        "colab": {
          "background_save": true
        },
        "id": "8vuQjhsi3V63",
        "outputId": "93874f98-bb32-4815-ad68-9195704dbcea"
      },
      "outputs": [
        {
          "name": "stderr",
          "output_type": "stream",
          "text": [
            "/usr/local/lib/python3.7/dist-packages/sklearn/svm/_base.py:1208: ConvergenceWarning: Liblinear failed to converge, increase the number of iterations.\n",
            "  ConvergenceWarning,\n"
          ]
        },
        {
          "data": {
            "text/plain": [
              "Pipeline(steps=[('pre_processor',\n",
              "                 ColumnTransformer(transformers=[('standard_scaler',\n",
              "                                                  StandardScaler(),\n",
              "                                                  ['age', 'reimbursement2008',\n",
              "                                                   'reimbursement2009']),\n",
              "                                                 ('one_hot_encoder',\n",
              "                                                  OneHotEncoder(),\n",
              "                                                  ['bucket2008'])])),\n",
              "                ('model', GaussianNB())])"
            ]
          },
          "execution_count": null,
          "metadata": {},
          "output_type": "execute_result"
        }
      ],
      "source": [
        "# Treinando os modelos\n",
        "Reglog.fit(X_train, y_train)\n",
        "knn.fit(X_train, y_train)\n",
        "svm.fit(X_train, y_train)\n",
        "DecTree.fit(X_train, y_train)\n",
        "NaiveBayes.fit(X_train, y_train)"
      ],
      "id": "8vuQjhsi3V63"
    },
    {
      "cell_type": "code",
      "execution_count": null,
      "metadata": {
        "colab": {
          "background_save": true
        },
        "id": "gdPGhF233XNy",
        "outputId": "7fd5880e-5c3a-4bb4-99d0-883b55c38255"
      },
      "outputs": [
        {
          "name": "stdout",
          "output_type": "stream",
          "text": [
            "LogisticRegression \n",
            "\n",
            "log loss treino: 0.02898985279791852\n",
            "log loss test: 0.02888737167578622\n",
            "----------------------------------------------------------------------------------------------------\n",
            "KNeighborsClassifier \n",
            "\n",
            "log loss treino: 0.01477616556223854\n",
            "log loss test: 0.035552621346182076\n",
            "----------------------------------------------------------------------------------------------------\n",
            "DecisionTreeClassifier \n",
            "\n",
            "log loss treino: 4.3189685191270484e-15\n",
            "log loss test: 4.318968114076985e-15\n",
            "----------------------------------------------------------------------------------------------------\n",
            "GaussianNB \n",
            "\n",
            "log loss treino: 0.9412828186579177\n",
            "log loss test: 0.9398615949289102\n",
            "----------------------------------------------------------------------------------------------------\n"
          ]
        }
      ],
      "source": [
        "# Calculando Log loss\n",
        "\n",
        "models = [Reglog, knn, DecTree, NaiveBayes]\n",
        "\n",
        "for model in models:\n",
        "  y_pred_train = model.predict_proba(X_train)\n",
        "  y_pred_test = model.predict_proba(X_test)\n",
        "\n",
        "  print(type(model['model']).__name__,'\\n')\n",
        "  print(f'log loss treino: {log_loss(y_train, y_pred_train)}')\n",
        "  print(f'log loss test: {log_loss(y_test, y_pred_test)}')\n",
        "  print(100*'-')"
      ],
      "id": "gdPGhF233XNy"
    },
    {
      "cell_type": "markdown",
      "metadata": {
        "id": "4ZDvDoHC3aSY"
      },
      "source": [
        "Comparando as matrizes de confusão, vemos que a regressão logistica é o melhor modelo, pois é o que menos erra quanto a previsão das classes 4 e 5\n",
        "\n",
        "A DecisionTree tambem apresentou uma ótima performance, mas como não houve hiperparametros definidos, isso pode ser indicativo de overfitting\n",
        "\n",
        "Vamos buscar os hiperparametros da árvore para ver se sua performance fica tão boa quanto a da regressao logistica"
      ],
      "id": "4ZDvDoHC3aSY"
    },
    {
      "cell_type": "code",
      "execution_count": null,
      "metadata": {
        "colab": {
          "background_save": true
        },
        "id": "PZ7R1b0o3YiX",
        "outputId": "31cc97a8-4092-4abb-e30e-7da88f6a098f"
      },
      "outputs": [
        {
          "ename": "ValueError",
          "evalue": "ignored",
          "output_type": "error",
          "traceback": [
            "\u001b[0;31m---------------------------------------------------------------------------\u001b[0m",
            "\u001b[0;31mValueError\u001b[0m                                Traceback (most recent call last)",
            "\u001b[0;32m<ipython-input-71-caaf7f0f733a>\u001b[0m in \u001b[0;36m<module>\u001b[0;34m()\u001b[0m\n\u001b[0;32m----> 1\u001b[0;31m \u001b[0mplot_confusion_matrix\u001b[0m\u001b[0;34m(\u001b[0m\u001b[0mReglog\u001b[0m\u001b[0;34m,\u001b[0m \u001b[0mX_test\u001b[0m\u001b[0;34m,\u001b[0m \u001b[0my_test\u001b[0m\u001b[0;34m)\u001b[0m\u001b[0;34m\u001b[0m\u001b[0;34m\u001b[0m\u001b[0m\n\u001b[0m",
            "\u001b[0;32m<ipython-input-9-714a987d144e>\u001b[0m in \u001b[0;36mplot_confusion_matrix\u001b[0;34m(cm, classes, normalize, title, cmap)\u001b[0m\n\u001b[1;32m      8\u001b[0m     \"\"\"\n\u001b[1;32m      9\u001b[0m     \u001b[0;32mimport\u001b[0m \u001b[0mitertools\u001b[0m\u001b[0;34m\u001b[0m\u001b[0;34m\u001b[0m\u001b[0m\n\u001b[0;32m---> 10\u001b[0;31m     \u001b[0;32mif\u001b[0m \u001b[0mnormalize\u001b[0m\u001b[0;34m:\u001b[0m\u001b[0;34m\u001b[0m\u001b[0;34m\u001b[0m\u001b[0m\n\u001b[0m\u001b[1;32m     11\u001b[0m         \u001b[0mcm\u001b[0m \u001b[0;34m=\u001b[0m \u001b[0mcm\u001b[0m\u001b[0;34m.\u001b[0m\u001b[0mastype\u001b[0m\u001b[0;34m(\u001b[0m\u001b[0;34m'float'\u001b[0m\u001b[0;34m)\u001b[0m \u001b[0;34m/\u001b[0m \u001b[0mcm\u001b[0m\u001b[0;34m.\u001b[0m\u001b[0msum\u001b[0m\u001b[0;34m(\u001b[0m\u001b[0maxis\u001b[0m\u001b[0;34m=\u001b[0m\u001b[0;36m1\u001b[0m\u001b[0;34m)\u001b[0m\u001b[0;34m[\u001b[0m\u001b[0;34m:\u001b[0m\u001b[0;34m,\u001b[0m \u001b[0mnp\u001b[0m\u001b[0;34m.\u001b[0m\u001b[0mnewaxis\u001b[0m\u001b[0;34m]\u001b[0m\u001b[0;34m\u001b[0m\u001b[0;34m\u001b[0m\u001b[0m\n\u001b[1;32m     12\u001b[0m \u001b[0;31m#         print(\"Normalized confusion matrix\")\u001b[0m\u001b[0;34m\u001b[0m\u001b[0;34m\u001b[0m\u001b[0;34m\u001b[0m\u001b[0m\n",
            "\u001b[0;32m/usr/local/lib/python3.7/dist-packages/pandas/core/generic.py\u001b[0m in \u001b[0;36m__nonzero__\u001b[0;34m(self)\u001b[0m\n\u001b[1;32m   1536\u001b[0m     \u001b[0;32mdef\u001b[0m \u001b[0m__nonzero__\u001b[0m\u001b[0;34m(\u001b[0m\u001b[0mself\u001b[0m\u001b[0;34m)\u001b[0m\u001b[0;34m:\u001b[0m\u001b[0;34m\u001b[0m\u001b[0;34m\u001b[0m\u001b[0m\n\u001b[1;32m   1537\u001b[0m         raise ValueError(\n\u001b[0;32m-> 1538\u001b[0;31m             \u001b[0;34mf\"The truth value of a {type(self).__name__} is ambiguous. \"\u001b[0m\u001b[0;34m\u001b[0m\u001b[0;34m\u001b[0m\u001b[0m\n\u001b[0m\u001b[1;32m   1539\u001b[0m             \u001b[0;34m\"Use a.empty, a.bool(), a.item(), a.any() or a.all().\"\u001b[0m\u001b[0;34m\u001b[0m\u001b[0;34m\u001b[0m\u001b[0m\n\u001b[1;32m   1540\u001b[0m         )\n",
            "\u001b[0;31mValueError\u001b[0m: The truth value of a Series is ambiguous. Use a.empty, a.bool(), a.item(), a.any() or a.all()."
          ]
        }
      ],
      "source": [
        "plot_confusion_matrix(Reglog, X_test, y_test)"
      ],
      "id": "PZ7R1b0o3YiX"
    },
    {
      "cell_type": "code",
      "execution_count": null,
      "metadata": {
        "colab": {
          "background_save": true
        },
        "id": "SIxKwxAo3crE"
      },
      "outputs": [],
      "source": [
        "plot_confusion_matrix(knn, X_test, y_test)"
      ],
      "id": "SIxKwxAo3crE"
    },
    {
      "cell_type": "code",
      "execution_count": null,
      "metadata": {
        "colab": {
          "background_save": true
        },
        "id": "2VgyASoz3eHp"
      },
      "outputs": [],
      "source": [
        "plot_confusion_matrix(svm, X_test, y_test)"
      ],
      "id": "2VgyASoz3eHp"
    },
    {
      "cell_type": "code",
      "execution_count": null,
      "metadata": {
        "colab": {
          "background_save": true
        },
        "id": "sWFYbjlI3fPo"
      },
      "outputs": [],
      "source": [
        "plot_confusion_matrix(DecTree, X_test, y_test)"
      ],
      "id": "sWFYbjlI3fPo"
    },
    {
      "cell_type": "code",
      "execution_count": null,
      "metadata": {
        "colab": {
          "background_save": true
        },
        "id": "lowkAAkv3h9g"
      },
      "outputs": [],
      "source": [
        "plot_confusion_matrix(NaiveBayes, X_test, y_test)"
      ],
      "id": "lowkAAkv3h9g"
    },
    {
      "cell_type": "markdown",
      "metadata": {
        "id": "loExbjmc3kNw"
      },
      "source": [
        "### Busca hiperparametros Decision Tree"
      ],
      "id": "loExbjmc3kNw"
    },
    {
      "cell_type": "code",
      "execution_count": null,
      "metadata": {
        "colab": {
          "background_save": true
        },
        "id": "ReE009ib3jSQ"
      },
      "outputs": [],
      "source": [
        "path = DecTree[-1].cost_complexity_pruning_path(DecTree[:-1].transform(X_train), y_train)\n",
        "path"
      ],
      "id": "ReE009ib3jSQ"
    },
    {
      "cell_type": "code",
      "execution_count": null,
      "metadata": {
        "colab": {
          "background_save": true
        },
        "id": "vM7Q-E2F3nNI"
      },
      "outputs": [],
      "source": [
        "# Rodando Decision Tree para os diferentes alphas encontrados pelo pruning cost complexity\n",
        "alphas = path.ccp_alphas\n",
        "\n",
        "clfs = []\n",
        "for alpha in alphas:\n",
        "  clf = DecisionTreeClassifier(ccp_alpha=alpha)\n",
        "  clf.fit(X_train, y_train)\n",
        "  clfs.append(clf)"
      ],
      "id": "vM7Q-E2F3nNI"
    },
    {
      "cell_type": "code",
      "execution_count": null,
      "metadata": {
        "colab": {
          "background_save": true
        },
        "id": "2hB8UWlK3opR"
      },
      "outputs": [],
      "source": [
        "# Vend qual valor de alpha poderia maximizar a acurácia\n",
        "train_scores = [clf.score(X_train, y_train) for clf in clfs]\n",
        "test_scores = [clf.score(X_test, y_test) for clf in clfs]\n",
        "\n",
        "fig, ax = plt.subplots()\n",
        "ax.set_xlabel(\"alpha\")\n",
        "ax.set_ylabel(\"accuracy\")\n",
        "ax.set_title(\"Accuracy vs alpha for training and testing sets\")\n",
        "ax.plot(alphas, train_scores, marker='o', label=\"train\",\n",
        "        drawstyle=\"steps-post\")\n",
        "ax.plot(alphas, test_scores, marker='o', label=\"test\",\n",
        "        drawstyle=\"steps-post\")\n",
        "ax.legend()\n",
        "plt.show()"
      ],
      "id": "2hB8UWlK3opR"
    },
    {
      "cell_type": "markdown",
      "metadata": {
        "id": "nVW7tHA-3r0Q"
      },
      "source": [
        "Com o gráfico, percebemos que um valor de alpha em 0,12 (aproximadamente) fez com que a acurácia se mantivesse em 86%\n",
        "\n",
        "Logo, vamos utilizar este valor e buscar os outros hiperparametros"
      ],
      "id": "nVW7tHA-3r0Q"
    },
    {
      "cell_type": "code",
      "execution_count": null,
      "metadata": {
        "colab": {
          "background_save": true
        },
        "id": "2IpJrqmL3pv4"
      },
      "outputs": [],
      "source": [
        "DecTree_p = Pipeline(steps=[('pre_processor', pre_processor),\n",
        "                          ('model', DecisionTreeClassifier(ccp_alpha=0.12))])"
      ],
      "id": "2IpJrqmL3pv4"
    },
    {
      "cell_type": "code",
      "execution_count": null,
      "metadata": {
        "colab": {
          "background_save": true
        },
        "id": "zpWj9tnT3wCg"
      },
      "outputs": [],
      "source": [
        "# Grid de parametros\n",
        "criterion = ['gini', 'entropy']\n",
        "splitter = ['best', 'random']\n",
        "max_depth = list(range(0, 50))\n",
        "min_sample_split = list(range(0, 20))\n",
        "max_features = list(range(0, 15))\n",
        "min_sample_leaf = list(range(0, 50))\n",
        "max_leaf_nodes = list(range(0, 100))\n",
        "\n",
        "param_grid = {'model__criterion': criterion,\n",
        "              'model__splitter': splitter,\n",
        "              'model__max_depth': max_depth,\n",
        "              'model__min_samples_split': min_sample_split,\n",
        "              'model__min_samples_leaf': min_sample_leaf,\n",
        "              'model__max_features': max_features,\n",
        "              'model__max_leaf_nodes': max_leaf_nodes,\n",
        "              }"
      ],
      "id": "zpWj9tnT3wCg"
    },
    {
      "cell_type": "code",
      "execution_count": null,
      "metadata": {
        "colab": {
          "background_save": true
        },
        "id": "gSm9TB-c3ysS"
      },
      "outputs": [],
      "source": [
        "# Validador\n",
        "\n",
        "ckf = StratifiedKFold(n_splits=10, shuffle=True, random_state=123)"
      ],
      "id": "gSm9TB-c3ysS"
    },
    {
      "cell_type": "code",
      "execution_count": null,
      "metadata": {
        "colab": {
          "background_save": true
        },
        "id": "hKzacFLK3z4I"
      },
      "outputs": [],
      "source": [
        "# Rodando random search\n",
        "\n",
        "random_search = RandomizedSearchCV(DecTree_p, param_grid, cv=ckf, scoring='f1_micro', n_iter=50)\n",
        "random_search.fit(X_train, y_train)"
      ],
      "id": "hKzacFLK3z4I"
    },
    {
      "cell_type": "code",
      "execution_count": null,
      "metadata": {
        "colab": {
          "background_save": true
        },
        "id": "GZCc_lEw32Uq"
      },
      "outputs": [],
      "source": [
        "random_search.best_params_"
      ],
      "id": "GZCc_lEw32Uq"
    },
    {
      "cell_type": "code",
      "execution_count": null,
      "metadata": {
        "colab": {
          "background_save": true
        },
        "id": "rOqVRpzS33sl"
      },
      "outputs": [],
      "source": [
        "best_tree = random_search.best_estimator_\n",
        "best_tree.fit(X_train, y_train)"
      ],
      "id": "rOqVRpzS33sl"
    },
    {
      "cell_type": "code",
      "execution_count": null,
      "metadata": {
        "colab": {
          "background_save": true
        },
        "id": "cGTvkZf-34xx"
      },
      "outputs": [],
      "source": [
        "log_loss(y_test, best_tree.predict_proba(X_test))"
      ],
      "id": "cGTvkZf-34xx"
    },
    {
      "cell_type": "code",
      "execution_count": null,
      "metadata": {
        "colab": {
          "background_save": true
        },
        "id": "Hxhy7aG537-o"
      },
      "outputs": [],
      "source": [
        "plot_tree(best_tree['model'])"
      ],
      "id": "Hxhy7aG537-o"
    },
    {
      "cell_type": "code",
      "execution_count": null,
      "metadata": {
        "colab": {
          "background_save": true
        },
        "id": "579AXTkF39aN"
      },
      "outputs": [],
      "source": [
        "plot_confusion_matrix(best_tree, X_test, y_test)"
      ],
      "id": "579AXTkF39aN"
    },
    {
      "cell_type": "markdown",
      "metadata": {
        "id": "vjHCHuQg4AY4"
      },
      "source": [
        "CONCLUSÃO: Melhor modelo para realizar a classificação, pensando em errar o mínimo possível das classes 4 e 5,  é a regressão logistica!\n",
        "\n",
        "Mesmo com a busca dos hiperparametros com base em score F1 e alpha determinado, a arvore de decisão não consegue acertar todos da classe 5."
      ],
      "id": "vjHCHuQg4AY4"
    }
  ],
  "metadata": {
    "colab": {
      "provenance": [],
      "toc_visible": true
    },
    "kernelspec": {
      "display_name": "Python 3",
      "language": "python",
      "name": "python3"
    },
    "language_info": {
      "codemirror_mode": {
        "name": "ipython",
        "version": 3
      },
      "file_extension": ".py",
      "mimetype": "text/x-python",
      "name": "python",
      "nbconvert_exporter": "python",
      "pygments_lexer": "ipython3",
      "version": "3.9.1"
    }
  },
  "nbformat": 4,
  "nbformat_minor": 5
}